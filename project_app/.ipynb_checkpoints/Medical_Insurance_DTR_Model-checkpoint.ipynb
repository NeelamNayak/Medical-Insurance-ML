{
 "cells": [
  {
   "cell_type": "code",
   "execution_count": 527,
   "id": "5b20e1c3",
   "metadata": {},
   "outputs": [],
   "source": [
    "import numpy as np\n",
    "import pandas as pd\n",
    "\n",
    "# Laibraries for Visualization \n",
    "\n",
    "import seaborn as sns\n",
    "import matplotlib.pyplot as plt\n",
    "\n",
    "# Libraries for Feature Selection\n",
    "from statsmodels.stats.outliers_influence import variance_inflation_factor\n",
    "\n",
    "# Libraries for Model Building\n",
    "from sklearn.tree import DecisionTreeRegressor, plot_tree\n",
    "from sklearn.model_selection import train_test_split, GridSearchCV, RandomizedSearchCV\n",
    "\n",
    "# Libraries fron Model Evaluation\n",
    "from sklearn.metrics import mean_squared_error, mean_absolute_error, r2_score\n",
    "\n",
    "# Avoid Warnings\n",
    "import warnings\n",
    "warnings.filterwarnings(\"ignore\")"
   ]
  },
  {
   "cell_type": "code",
   "execution_count": 528,
   "id": "c4fb7cee",
   "metadata": {},
   "outputs": [],
   "source": [
    "model_details = []\n",
    "model_instance = []\n",
    "training_accuracy = []\n",
    "testing_accuracy = []"
   ]
  },
  {
   "cell_type": "markdown",
   "id": "e3eb349b",
   "metadata": {},
   "source": [
    "# 1. Problem Statement"
   ]
  },
  {
   "cell_type": "markdown",
   "id": "7c2c8d27",
   "metadata": {},
   "source": [
    "To predict Medical insurance charges by using Supervised Machine learning Decision Tree Algorithm\n",
    "considering as a regression problem.\n",
    "\n",
    "Independent variables ----> ['age', 'sex', 'bmi', 'children', 'smoker', 'region'] \n",
    "Dependent variable ----> ['charges']"
   ]
  },
  {
   "cell_type": "markdown",
   "id": "b742b77d",
   "metadata": {},
   "source": [
    "# 2. Information Gathering\n",
    "For Data Gathering we are using medical_insurance.csv file"
   ]
  },
  {
   "cell_type": "code",
   "execution_count": 529,
   "id": "b25ceb42",
   "metadata": {},
   "outputs": [
    {
     "data": {
      "text/html": [
       "<div>\n",
       "<style scoped>\n",
       "    .dataframe tbody tr th:only-of-type {\n",
       "        vertical-align: middle;\n",
       "    }\n",
       "\n",
       "    .dataframe tbody tr th {\n",
       "        vertical-align: top;\n",
       "    }\n",
       "\n",
       "    .dataframe thead th {\n",
       "        text-align: right;\n",
       "    }\n",
       "</style>\n",
       "<table border=\"1\" class=\"dataframe\">\n",
       "  <thead>\n",
       "    <tr style=\"text-align: right;\">\n",
       "      <th></th>\n",
       "      <th>age</th>\n",
       "      <th>sex</th>\n",
       "      <th>bmi</th>\n",
       "      <th>children</th>\n",
       "      <th>smoker</th>\n",
       "      <th>region</th>\n",
       "      <th>charges</th>\n",
       "    </tr>\n",
       "  </thead>\n",
       "  <tbody>\n",
       "    <tr>\n",
       "      <th>207</th>\n",
       "      <td>35</td>\n",
       "      <td>male</td>\n",
       "      <td>27.740</td>\n",
       "      <td>2</td>\n",
       "      <td>yes</td>\n",
       "      <td>northeast</td>\n",
       "      <td>20984.09360</td>\n",
       "    </tr>\n",
       "    <tr>\n",
       "      <th>580</th>\n",
       "      <td>59</td>\n",
       "      <td>male</td>\n",
       "      <td>25.460</td>\n",
       "      <td>1</td>\n",
       "      <td>no</td>\n",
       "      <td>northeast</td>\n",
       "      <td>12913.99240</td>\n",
       "    </tr>\n",
       "    <tr>\n",
       "      <th>452</th>\n",
       "      <td>24</td>\n",
       "      <td>male</td>\n",
       "      <td>23.400</td>\n",
       "      <td>0</td>\n",
       "      <td>no</td>\n",
       "      <td>southwest</td>\n",
       "      <td>1969.61400</td>\n",
       "    </tr>\n",
       "    <tr>\n",
       "      <th>1235</th>\n",
       "      <td>26</td>\n",
       "      <td>male</td>\n",
       "      <td>31.065</td>\n",
       "      <td>0</td>\n",
       "      <td>no</td>\n",
       "      <td>northwest</td>\n",
       "      <td>2699.56835</td>\n",
       "    </tr>\n",
       "    <tr>\n",
       "      <th>55</th>\n",
       "      <td>58</td>\n",
       "      <td>male</td>\n",
       "      <td>36.955</td>\n",
       "      <td>2</td>\n",
       "      <td>yes</td>\n",
       "      <td>northwest</td>\n",
       "      <td>47496.49445</td>\n",
       "    </tr>\n",
       "    <tr>\n",
       "      <th>732</th>\n",
       "      <td>24</td>\n",
       "      <td>female</td>\n",
       "      <td>30.100</td>\n",
       "      <td>3</td>\n",
       "      <td>no</td>\n",
       "      <td>southwest</td>\n",
       "      <td>4234.92700</td>\n",
       "    </tr>\n",
       "    <tr>\n",
       "      <th>615</th>\n",
       "      <td>47</td>\n",
       "      <td>female</td>\n",
       "      <td>36.630</td>\n",
       "      <td>1</td>\n",
       "      <td>yes</td>\n",
       "      <td>southeast</td>\n",
       "      <td>42969.85270</td>\n",
       "    </tr>\n",
       "    <tr>\n",
       "      <th>17</th>\n",
       "      <td>23</td>\n",
       "      <td>male</td>\n",
       "      <td>23.845</td>\n",
       "      <td>0</td>\n",
       "      <td>no</td>\n",
       "      <td>northeast</td>\n",
       "      <td>2395.17155</td>\n",
       "    </tr>\n",
       "    <tr>\n",
       "      <th>930</th>\n",
       "      <td>26</td>\n",
       "      <td>male</td>\n",
       "      <td>46.530</td>\n",
       "      <td>1</td>\n",
       "      <td>no</td>\n",
       "      <td>southeast</td>\n",
       "      <td>2927.06470</td>\n",
       "    </tr>\n",
       "    <tr>\n",
       "      <th>1163</th>\n",
       "      <td>18</td>\n",
       "      <td>female</td>\n",
       "      <td>28.215</td>\n",
       "      <td>0</td>\n",
       "      <td>no</td>\n",
       "      <td>northeast</td>\n",
       "      <td>2200.83085</td>\n",
       "    </tr>\n",
       "  </tbody>\n",
       "</table>\n",
       "</div>"
      ],
      "text/plain": [
       "      age     sex     bmi  children smoker     region      charges\n",
       "207    35    male  27.740         2    yes  northeast  20984.09360\n",
       "580    59    male  25.460         1     no  northeast  12913.99240\n",
       "452    24    male  23.400         0     no  southwest   1969.61400\n",
       "1235   26    male  31.065         0     no  northwest   2699.56835\n",
       "55     58    male  36.955         2    yes  northwest  47496.49445\n",
       "732    24  female  30.100         3     no  southwest   4234.92700\n",
       "615    47  female  36.630         1    yes  southeast  42969.85270\n",
       "17     23    male  23.845         0     no  northeast   2395.17155\n",
       "930    26    male  46.530         1     no  southeast   2927.06470\n",
       "1163   18  female  28.215         0     no  northeast   2200.83085"
      ]
     },
     "execution_count": 529,
     "metadata": {},
     "output_type": "execute_result"
    }
   ],
   "source": [
    "df = pd.read_csv(\"medical_insurance.csv\")\n",
    "df.sample(10)"
   ]
  },
  {
   "cell_type": "markdown",
   "id": "32142970",
   "metadata": {},
   "source": [
    "# 3. Exploratory Data Analysis(EDA)"
   ]
  },
  {
   "cell_type": "markdown",
   "id": "ca7c7b2f",
   "metadata": {},
   "source": [
    "##### 1. How big the data is?"
   ]
  },
  {
   "cell_type": "code",
   "execution_count": 530,
   "id": "604f01d4",
   "metadata": {},
   "outputs": [
    {
     "data": {
      "text/plain": [
       "(1338, 7)"
      ]
     },
     "execution_count": 530,
     "metadata": {},
     "output_type": "execute_result"
    }
   ],
   "source": [
    "df.shape"
   ]
  },
  {
   "cell_type": "markdown",
   "id": "be41ec51",
   "metadata": {},
   "source": [
    "##### 2. How looks the data?"
   ]
  },
  {
   "cell_type": "code",
   "execution_count": 531,
   "id": "66e466ee",
   "metadata": {},
   "outputs": [
    {
     "data": {
      "text/html": [
       "<div>\n",
       "<style scoped>\n",
       "    .dataframe tbody tr th:only-of-type {\n",
       "        vertical-align: middle;\n",
       "    }\n",
       "\n",
       "    .dataframe tbody tr th {\n",
       "        vertical-align: top;\n",
       "    }\n",
       "\n",
       "    .dataframe thead th {\n",
       "        text-align: right;\n",
       "    }\n",
       "</style>\n",
       "<table border=\"1\" class=\"dataframe\">\n",
       "  <thead>\n",
       "    <tr style=\"text-align: right;\">\n",
       "      <th></th>\n",
       "      <th>age</th>\n",
       "      <th>sex</th>\n",
       "      <th>bmi</th>\n",
       "      <th>children</th>\n",
       "      <th>smoker</th>\n",
       "      <th>region</th>\n",
       "      <th>charges</th>\n",
       "    </tr>\n",
       "  </thead>\n",
       "  <tbody>\n",
       "    <tr>\n",
       "      <th>0</th>\n",
       "      <td>19</td>\n",
       "      <td>female</td>\n",
       "      <td>27.900</td>\n",
       "      <td>0</td>\n",
       "      <td>yes</td>\n",
       "      <td>southwest</td>\n",
       "      <td>16884.92400</td>\n",
       "    </tr>\n",
       "    <tr>\n",
       "      <th>1</th>\n",
       "      <td>18</td>\n",
       "      <td>male</td>\n",
       "      <td>33.770</td>\n",
       "      <td>1</td>\n",
       "      <td>no</td>\n",
       "      <td>southeast</td>\n",
       "      <td>1725.55230</td>\n",
       "    </tr>\n",
       "    <tr>\n",
       "      <th>2</th>\n",
       "      <td>28</td>\n",
       "      <td>male</td>\n",
       "      <td>33.000</td>\n",
       "      <td>3</td>\n",
       "      <td>no</td>\n",
       "      <td>southeast</td>\n",
       "      <td>4449.46200</td>\n",
       "    </tr>\n",
       "    <tr>\n",
       "      <th>3</th>\n",
       "      <td>33</td>\n",
       "      <td>male</td>\n",
       "      <td>22.705</td>\n",
       "      <td>0</td>\n",
       "      <td>no</td>\n",
       "      <td>northwest</td>\n",
       "      <td>21984.47061</td>\n",
       "    </tr>\n",
       "    <tr>\n",
       "      <th>4</th>\n",
       "      <td>32</td>\n",
       "      <td>male</td>\n",
       "      <td>28.880</td>\n",
       "      <td>0</td>\n",
       "      <td>no</td>\n",
       "      <td>northwest</td>\n",
       "      <td>3866.85520</td>\n",
       "    </tr>\n",
       "  </tbody>\n",
       "</table>\n",
       "</div>"
      ],
      "text/plain": [
       "   age     sex     bmi  children smoker     region      charges\n",
       "0   19  female  27.900         0    yes  southwest  16884.92400\n",
       "1   18    male  33.770         1     no  southeast   1725.55230\n",
       "2   28    male  33.000         3     no  southeast   4449.46200\n",
       "3   33    male  22.705         0     no  northwest  21984.47061\n",
       "4   32    male  28.880         0     no  northwest   3866.85520"
      ]
     },
     "metadata": {},
     "output_type": "display_data"
    },
    {
     "data": {
      "text/html": [
       "<div>\n",
       "<style scoped>\n",
       "    .dataframe tbody tr th:only-of-type {\n",
       "        vertical-align: middle;\n",
       "    }\n",
       "\n",
       "    .dataframe tbody tr th {\n",
       "        vertical-align: top;\n",
       "    }\n",
       "\n",
       "    .dataframe thead th {\n",
       "        text-align: right;\n",
       "    }\n",
       "</style>\n",
       "<table border=\"1\" class=\"dataframe\">\n",
       "  <thead>\n",
       "    <tr style=\"text-align: right;\">\n",
       "      <th></th>\n",
       "      <th>age</th>\n",
       "      <th>sex</th>\n",
       "      <th>bmi</th>\n",
       "      <th>children</th>\n",
       "      <th>smoker</th>\n",
       "      <th>region</th>\n",
       "      <th>charges</th>\n",
       "    </tr>\n",
       "  </thead>\n",
       "  <tbody>\n",
       "    <tr>\n",
       "      <th>1333</th>\n",
       "      <td>50</td>\n",
       "      <td>male</td>\n",
       "      <td>30.97</td>\n",
       "      <td>3</td>\n",
       "      <td>no</td>\n",
       "      <td>northwest</td>\n",
       "      <td>10600.5483</td>\n",
       "    </tr>\n",
       "    <tr>\n",
       "      <th>1334</th>\n",
       "      <td>18</td>\n",
       "      <td>female</td>\n",
       "      <td>31.92</td>\n",
       "      <td>0</td>\n",
       "      <td>no</td>\n",
       "      <td>northeast</td>\n",
       "      <td>2205.9808</td>\n",
       "    </tr>\n",
       "    <tr>\n",
       "      <th>1335</th>\n",
       "      <td>18</td>\n",
       "      <td>female</td>\n",
       "      <td>36.85</td>\n",
       "      <td>0</td>\n",
       "      <td>no</td>\n",
       "      <td>southeast</td>\n",
       "      <td>1629.8335</td>\n",
       "    </tr>\n",
       "    <tr>\n",
       "      <th>1336</th>\n",
       "      <td>21</td>\n",
       "      <td>female</td>\n",
       "      <td>25.80</td>\n",
       "      <td>0</td>\n",
       "      <td>no</td>\n",
       "      <td>southwest</td>\n",
       "      <td>2007.9450</td>\n",
       "    </tr>\n",
       "    <tr>\n",
       "      <th>1337</th>\n",
       "      <td>61</td>\n",
       "      <td>female</td>\n",
       "      <td>29.07</td>\n",
       "      <td>0</td>\n",
       "      <td>yes</td>\n",
       "      <td>northwest</td>\n",
       "      <td>29141.3603</td>\n",
       "    </tr>\n",
       "  </tbody>\n",
       "</table>\n",
       "</div>"
      ],
      "text/plain": [
       "      age     sex    bmi  children smoker     region     charges\n",
       "1333   50    male  30.97         3     no  northwest  10600.5483\n",
       "1334   18  female  31.92         0     no  northeast   2205.9808\n",
       "1335   18  female  36.85         0     no  southeast   1629.8335\n",
       "1336   21  female  25.80         0     no  southwest   2007.9450\n",
       "1337   61  female  29.07         0    yes  northwest  29141.3603"
      ]
     },
     "metadata": {},
     "output_type": "display_data"
    }
   ],
   "source": [
    "display(df.head(5))\n",
    "display(df.tail(5))"
   ]
  },
  {
   "cell_type": "markdown",
   "id": "7a1b5efa",
   "metadata": {},
   "source": [
    "##### 3. Information of the Data"
   ]
  },
  {
   "cell_type": "code",
   "execution_count": 532,
   "id": "d65b5802",
   "metadata": {},
   "outputs": [
    {
     "name": "stdout",
     "output_type": "stream",
     "text": [
      "<class 'pandas.core.frame.DataFrame'>\n",
      "RangeIndex: 1338 entries, 0 to 1337\n",
      "Data columns (total 7 columns):\n",
      " #   Column    Non-Null Count  Dtype  \n",
      "---  ------    --------------  -----  \n",
      " 0   age       1338 non-null   int64  \n",
      " 1   sex       1338 non-null   object \n",
      " 2   bmi       1338 non-null   float64\n",
      " 3   children  1338 non-null   int64  \n",
      " 4   smoker    1338 non-null   object \n",
      " 5   region    1338 non-null   object \n",
      " 6   charges   1338 non-null   float64\n",
      "dtypes: float64(2), int64(2), object(3)\n",
      "memory usage: 73.3+ KB\n"
     ]
    }
   ],
   "source": [
    "df.info()"
   ]
  },
  {
   "cell_type": "markdown",
   "id": "a06a3e34",
   "metadata": {},
   "source": [
    "##### 4. How does data look mathematically?"
   ]
  },
  {
   "cell_type": "code",
   "execution_count": 533,
   "id": "1620afaf",
   "metadata": {},
   "outputs": [
    {
     "data": {
      "text/html": [
       "<div>\n",
       "<style scoped>\n",
       "    .dataframe tbody tr th:only-of-type {\n",
       "        vertical-align: middle;\n",
       "    }\n",
       "\n",
       "    .dataframe tbody tr th {\n",
       "        vertical-align: top;\n",
       "    }\n",
       "\n",
       "    .dataframe thead th {\n",
       "        text-align: right;\n",
       "    }\n",
       "</style>\n",
       "<table border=\"1\" class=\"dataframe\">\n",
       "  <thead>\n",
       "    <tr style=\"text-align: right;\">\n",
       "      <th></th>\n",
       "      <th>age</th>\n",
       "      <th>sex</th>\n",
       "      <th>bmi</th>\n",
       "      <th>children</th>\n",
       "      <th>smoker</th>\n",
       "      <th>region</th>\n",
       "      <th>charges</th>\n",
       "    </tr>\n",
       "  </thead>\n",
       "  <tbody>\n",
       "    <tr>\n",
       "      <th>count</th>\n",
       "      <td>1338.000000</td>\n",
       "      <td>1338</td>\n",
       "      <td>1338.000000</td>\n",
       "      <td>1338.000000</td>\n",
       "      <td>1338</td>\n",
       "      <td>1338</td>\n",
       "      <td>1338.000000</td>\n",
       "    </tr>\n",
       "    <tr>\n",
       "      <th>unique</th>\n",
       "      <td>NaN</td>\n",
       "      <td>2</td>\n",
       "      <td>NaN</td>\n",
       "      <td>NaN</td>\n",
       "      <td>2</td>\n",
       "      <td>4</td>\n",
       "      <td>NaN</td>\n",
       "    </tr>\n",
       "    <tr>\n",
       "      <th>top</th>\n",
       "      <td>NaN</td>\n",
       "      <td>male</td>\n",
       "      <td>NaN</td>\n",
       "      <td>NaN</td>\n",
       "      <td>no</td>\n",
       "      <td>southeast</td>\n",
       "      <td>NaN</td>\n",
       "    </tr>\n",
       "    <tr>\n",
       "      <th>freq</th>\n",
       "      <td>NaN</td>\n",
       "      <td>676</td>\n",
       "      <td>NaN</td>\n",
       "      <td>NaN</td>\n",
       "      <td>1064</td>\n",
       "      <td>364</td>\n",
       "      <td>NaN</td>\n",
       "    </tr>\n",
       "    <tr>\n",
       "      <th>mean</th>\n",
       "      <td>39.207025</td>\n",
       "      <td>NaN</td>\n",
       "      <td>30.663397</td>\n",
       "      <td>1.094918</td>\n",
       "      <td>NaN</td>\n",
       "      <td>NaN</td>\n",
       "      <td>13270.422265</td>\n",
       "    </tr>\n",
       "    <tr>\n",
       "      <th>std</th>\n",
       "      <td>14.049960</td>\n",
       "      <td>NaN</td>\n",
       "      <td>6.098187</td>\n",
       "      <td>1.205493</td>\n",
       "      <td>NaN</td>\n",
       "      <td>NaN</td>\n",
       "      <td>12110.011237</td>\n",
       "    </tr>\n",
       "    <tr>\n",
       "      <th>min</th>\n",
       "      <td>18.000000</td>\n",
       "      <td>NaN</td>\n",
       "      <td>15.960000</td>\n",
       "      <td>0.000000</td>\n",
       "      <td>NaN</td>\n",
       "      <td>NaN</td>\n",
       "      <td>1121.873900</td>\n",
       "    </tr>\n",
       "    <tr>\n",
       "      <th>25%</th>\n",
       "      <td>27.000000</td>\n",
       "      <td>NaN</td>\n",
       "      <td>26.296250</td>\n",
       "      <td>0.000000</td>\n",
       "      <td>NaN</td>\n",
       "      <td>NaN</td>\n",
       "      <td>4740.287150</td>\n",
       "    </tr>\n",
       "    <tr>\n",
       "      <th>50%</th>\n",
       "      <td>39.000000</td>\n",
       "      <td>NaN</td>\n",
       "      <td>30.400000</td>\n",
       "      <td>1.000000</td>\n",
       "      <td>NaN</td>\n",
       "      <td>NaN</td>\n",
       "      <td>9382.033000</td>\n",
       "    </tr>\n",
       "    <tr>\n",
       "      <th>75%</th>\n",
       "      <td>51.000000</td>\n",
       "      <td>NaN</td>\n",
       "      <td>34.693750</td>\n",
       "      <td>2.000000</td>\n",
       "      <td>NaN</td>\n",
       "      <td>NaN</td>\n",
       "      <td>16639.912515</td>\n",
       "    </tr>\n",
       "    <tr>\n",
       "      <th>max</th>\n",
       "      <td>64.000000</td>\n",
       "      <td>NaN</td>\n",
       "      <td>53.130000</td>\n",
       "      <td>5.000000</td>\n",
       "      <td>NaN</td>\n",
       "      <td>NaN</td>\n",
       "      <td>63770.428010</td>\n",
       "    </tr>\n",
       "  </tbody>\n",
       "</table>\n",
       "</div>"
      ],
      "text/plain": [
       "                age   sex          bmi     children smoker     region  \\\n",
       "count   1338.000000  1338  1338.000000  1338.000000   1338       1338   \n",
       "unique          NaN     2          NaN          NaN      2          4   \n",
       "top             NaN  male          NaN          NaN     no  southeast   \n",
       "freq            NaN   676          NaN          NaN   1064        364   \n",
       "mean      39.207025   NaN    30.663397     1.094918    NaN        NaN   \n",
       "std       14.049960   NaN     6.098187     1.205493    NaN        NaN   \n",
       "min       18.000000   NaN    15.960000     0.000000    NaN        NaN   \n",
       "25%       27.000000   NaN    26.296250     0.000000    NaN        NaN   \n",
       "50%       39.000000   NaN    30.400000     1.000000    NaN        NaN   \n",
       "75%       51.000000   NaN    34.693750     2.000000    NaN        NaN   \n",
       "max       64.000000   NaN    53.130000     5.000000    NaN        NaN   \n",
       "\n",
       "             charges  \n",
       "count    1338.000000  \n",
       "unique           NaN  \n",
       "top              NaN  \n",
       "freq             NaN  \n",
       "mean    13270.422265  \n",
       "std     12110.011237  \n",
       "min      1121.873900  \n",
       "25%      4740.287150  \n",
       "50%      9382.033000  \n",
       "75%     16639.912515  \n",
       "max     63770.428010  "
      ]
     },
     "execution_count": 533,
     "metadata": {},
     "output_type": "execute_result"
    }
   ],
   "source": [
    "df.describe(include = 'all')"
   ]
  },
  {
   "cell_type": "markdown",
   "id": "28f971a0",
   "metadata": {},
   "source": [
    "##### 5. Are thier any missing values?"
   ]
  },
  {
   "cell_type": "code",
   "execution_count": 534,
   "id": "96535ad0",
   "metadata": {},
   "outputs": [
    {
     "data": {
      "text/plain": [
       "age         0\n",
       "sex         0\n",
       "bmi         0\n",
       "children    0\n",
       "smoker      0\n",
       "region      0\n",
       "charges     0\n",
       "dtype: int64"
      ]
     },
     "execution_count": 534,
     "metadata": {},
     "output_type": "execute_result"
    }
   ],
   "source": [
    "df.isna().sum()"
   ]
  },
  {
   "cell_type": "markdown",
   "id": "88524df8",
   "metadata": {},
   "source": [
    "##### 6. Are thier any outliers?"
   ]
  },
  {
   "cell_type": "code",
   "execution_count": 535,
   "id": "28583843",
   "metadata": {},
   "outputs": [
    {
     "data": {
      "text/plain": [
       "<AxesSubplot:>"
      ]
     },
     "execution_count": 535,
     "metadata": {},
     "output_type": "execute_result"
    },
    {
     "data": {
      "image/png": "[encoded data removed]",
      "text/plain": [
       "<Figure size 1500x300 with 1 Axes>"
      ]
     },
     "metadata": {},
     "output_type": "display_data"
    }
   ],
   "source": [
    "plt.figure(figsize = (15,3))\n",
    "df.boxplot()"
   ]
  },
  {
   "cell_type": "markdown",
   "id": "396ae2fe",
   "metadata": {},
   "source": [
    "##### 7. Unique values and Value count"
   ]
  },
  {
   "cell_type": "code",
   "execution_count": 536,
   "id": "f4c8c1ae",
   "metadata": {},
   "outputs": [
    {
     "name": "stdout",
     "output_type": "stream",
     "text": [
      "[19 18 28 33 32 31 46 37 60 25 62 23 56 27 52 30 34 59 63 55 22 26 35 24\n",
      " 41 38 36 21 48 40 58 53 43 64 20 61 44 57 29 45 54 49 47 51 42 50 39]\n"
     ]
    },
    {
     "data": {
      "text/plain": [
       "18    69\n",
       "19    68\n",
       "50    29\n",
       "51    29\n",
       "47    29\n",
       "46    29\n",
       "45    29\n",
       "20    29\n",
       "48    29\n",
       "52    29\n",
       "22    28\n",
       "49    28\n",
       "54    28\n",
       "53    28\n",
       "21    28\n",
       "26    28\n",
       "24    28\n",
       "25    28\n",
       "28    28\n",
       "27    28\n",
       "23    28\n",
       "43    27\n",
       "29    27\n",
       "30    27\n",
       "41    27\n",
       "42    27\n",
       "44    27\n",
       "31    27\n",
       "40    27\n",
       "32    26\n",
       "33    26\n",
       "56    26\n",
       "34    26\n",
       "55    26\n",
       "57    26\n",
       "37    25\n",
       "59    25\n",
       "58    25\n",
       "36    25\n",
       "38    25\n",
       "35    25\n",
       "39    25\n",
       "61    23\n",
       "60    23\n",
       "63    23\n",
       "62    23\n",
       "64    22\n",
       "Name: age, dtype: int64"
      ]
     },
     "execution_count": 536,
     "metadata": {},
     "output_type": "execute_result"
    }
   ],
   "source": [
    "print(df['age'].unique())\n",
    "df['age'].value_counts()"
   ]
  },
  {
   "cell_type": "code",
   "execution_count": 537,
   "id": "1df51f0e",
   "metadata": {},
   "outputs": [
    {
     "name": "stdout",
     "output_type": "stream",
     "text": [
      "['female' 'male']\n"
     ]
    },
    {
     "data": {
      "text/plain": [
       "male      676\n",
       "female    662\n",
       "Name: sex, dtype: int64"
      ]
     },
     "execution_count": 537,
     "metadata": {},
     "output_type": "execute_result"
    }
   ],
   "source": [
    "print(df['sex'].unique())\n",
    "df['sex'].value_counts()"
   ]
  },
  {
   "cell_type": "code",
   "execution_count": 538,
   "id": "3a80a92e",
   "metadata": {},
   "outputs": [
    {
     "name": "stdout",
     "output_type": "stream",
     "text": [
      "[27.9   33.77  33.    22.705 28.88  25.74  33.44  27.74  29.83  25.84\n",
      " 26.22  26.29  34.4   39.82  42.13  24.6   30.78  23.845 40.3   35.3\n",
      " 36.005 32.4   34.1   31.92  28.025 27.72  23.085 32.775 17.385 36.3\n",
      " 35.6   26.315 28.6   28.31  36.4   20.425 32.965 20.8   36.67  39.9\n",
      " 26.6   36.63  21.78  30.8   37.05  37.3   38.665 34.77  24.53  35.2\n",
      " 35.625 33.63  28.    34.43  28.69  36.955 31.825 31.68  22.88  37.335\n",
      " 27.36  33.66  24.7   25.935 22.42  28.9   39.1   36.19  23.98  24.75\n",
      " 28.5   28.1   32.01  27.4   34.01  29.59  35.53  39.805 26.885 38.285\n",
      " 37.62  41.23  34.8   22.895 31.16  27.2   26.98  39.49  24.795 31.3\n",
      " 38.28  19.95  19.3   31.6   25.46  30.115 29.92  27.5   28.4   30.875\n",
      " 27.94  35.09  29.7   35.72  32.205 28.595 49.06  27.17  23.37  37.1\n",
      " 23.75  28.975 31.35  33.915 28.785 28.3   37.4   17.765 34.7   26.505\n",
      " 22.04  35.9   25.555 28.05  25.175 31.9   36.    32.49  25.3   29.735\n",
      " 38.83  30.495 37.73  37.43  24.13  37.145 39.52  24.42  27.83  36.85\n",
      " 39.6   29.8   29.64  28.215 37.    33.155 18.905 41.47  30.3   15.96\n",
      " 33.345 37.7   27.835 29.2   26.41  30.69  41.895 30.9   32.2   32.11\n",
      " 31.57  26.2   30.59  32.8   18.05  39.33  32.23  24.035 36.08  22.3\n",
      " 26.4   31.8   26.73  23.1   23.21  33.7   33.25  24.64  33.88  38.06\n",
      " 41.91  31.635 36.195 17.8   24.51  22.22  38.39  29.07  22.135 26.8\n",
      " 30.02  35.86  20.9   17.29  34.21  25.365 40.15  24.415 25.2   26.84\n",
      " 24.32  42.35  19.8   32.395 30.2   29.37  34.2   27.455 27.55  20.615\n",
      " 24.3   31.79  21.56  28.12  40.565 27.645 31.2   26.62  48.07  36.765\n",
      " 33.4   45.54  28.82  22.99  27.7   25.41  34.39  22.61  37.51  38.\n",
      " 33.33  34.865 33.06  35.97  31.4   25.27  40.945 34.105 36.48  33.8\n",
      " 36.7   36.385 34.5   32.3   27.6   29.26  35.75  23.18  25.6   35.245\n",
      " 43.89  20.79  30.5   21.7   21.89  24.985 32.015 30.4   21.09  22.23\n",
      " 32.9   24.89  31.46  17.955 30.685 43.34  39.05  30.21  31.445 19.855\n",
      " 31.02  38.17  20.6   47.52  20.4   38.38  24.31  23.6   21.12  30.03\n",
      " 17.48  20.235 17.195 23.9   35.15  35.64  22.6   39.16  27.265 29.165\n",
      " 16.815 33.1   26.9   33.11  31.73  46.75  29.45  32.68  33.5   43.01\n",
      " 36.52  26.695 25.65  29.6   38.6   23.4   46.53  30.14  30.    38.095\n",
      " 28.38  28.7   33.82  24.09  32.67  25.1   32.56  41.325 39.5   34.3\n",
      " 31.065 21.47  25.08  43.4   25.7   27.93  39.2   26.03  30.25  28.93\n",
      " 35.7   35.31  31.    44.22  26.07  25.8   39.425 40.48  38.9   47.41\n",
      " 35.435 46.7   46.2   21.4   23.8   44.77  32.12  29.1   37.29  43.12\n",
      " 36.86  34.295 23.465 45.43  23.65  20.7   28.27  35.91  29.    19.57\n",
      " 31.13  21.85  40.26  33.725 29.48  32.6   37.525 23.655 37.8   19.\n",
      " 21.3   33.535 42.46  38.95  36.1   29.3   39.7   38.19  42.4   34.96\n",
      " 42.68  31.54  29.81  21.375 40.81  17.4   20.3   18.5   26.125 41.69\n",
      " 24.1   36.2   40.185 39.27  34.87  44.745 29.545 23.54  40.47  40.66\n",
      " 36.6   35.4   27.075 28.405 21.755 40.28  30.1   32.1   23.7   35.5\n",
      " 29.15  27.    37.905 22.77  22.8   34.58  27.1   19.475 26.7   34.32\n",
      " 24.4   41.14  22.515 41.8   26.18  42.24  26.51  35.815 41.42  36.575\n",
      " 42.94  21.01  24.225 17.67  31.5   31.1   32.78  32.45  50.38  47.6\n",
      " 25.4   29.9   43.7   24.86  28.8   29.5   29.04  38.94  44.    20.045\n",
      " 40.92  35.1   29.355 32.585 32.34  39.8   24.605 33.99  28.2   25.\n",
      " 33.2   23.2   20.1   32.5   37.18  46.09  39.93  35.8   31.255 18.335\n",
      " 42.9   26.79  39.615 25.9   25.745 28.16  23.56  40.5   35.42  39.995\n",
      " 34.675 20.52  23.275 36.29  32.7   19.19  20.13  23.32  45.32  34.6\n",
      " 18.715 21.565 23.    37.07  52.58  42.655 21.66  32.    18.3   47.74\n",
      " 22.1   19.095 31.24  29.925 20.35  25.85  42.75  18.6   23.87  45.9\n",
      " 21.5   30.305 44.88  41.1   40.37  28.49  33.55  40.375 27.28  17.86\n",
      " 33.3   39.14  21.945 24.97  23.94  34.485 21.8   23.3   36.96  21.28\n",
      " 29.4   27.3   37.9   37.715 23.76  25.52  27.61  27.06  39.4   34.9\n",
      " 22.    30.36  27.8   53.13  39.71  32.87  44.7   30.97 ]\n"
     ]
    },
    {
     "data": {
      "text/plain": [
       "32.300    13\n",
       "28.310     9\n",
       "30.495     8\n",
       "30.875     8\n",
       "31.350     8\n",
       "          ..\n",
       "46.200     1\n",
       "23.800     1\n",
       "44.770     1\n",
       "32.120     1\n",
       "30.970     1\n",
       "Name: bmi, Length: 548, dtype: int64"
      ]
     },
     "execution_count": 538,
     "metadata": {},
     "output_type": "execute_result"
    }
   ],
   "source": [
    "print(df['bmi'].unique())\n",
    "df['bmi'].value_counts()"
   ]
  },
  {
   "cell_type": "code",
   "execution_count": 539,
   "id": "e608e061",
   "metadata": {},
   "outputs": [
    {
     "name": "stdout",
     "output_type": "stream",
     "text": [
      "[0 1 3 2 5 4]\n"
     ]
    },
    {
     "data": {
      "text/plain": [
       "0    574\n",
       "1    324\n",
       "2    240\n",
       "3    157\n",
       "4     25\n",
       "5     18\n",
       "Name: children, dtype: int64"
      ]
     },
     "execution_count": 539,
     "metadata": {},
     "output_type": "execute_result"
    }
   ],
   "source": [
    "print(df['children'].unique())\n",
    "df['children'].value_counts()"
   ]
  },
  {
   "cell_type": "code",
   "execution_count": 540,
   "id": "2bc610d1",
   "metadata": {},
   "outputs": [
    {
     "name": "stdout",
     "output_type": "stream",
     "text": [
      "['yes' 'no']\n"
     ]
    },
    {
     "data": {
      "text/plain": [
       "no     1064\n",
       "yes     274\n",
       "Name: smoker, dtype: int64"
      ]
     },
     "execution_count": 540,
     "metadata": {},
     "output_type": "execute_result"
    }
   ],
   "source": [
    "print(df['smoker'].unique())\n",
    "df['smoker'].value_counts()"
   ]
  },
  {
   "cell_type": "code",
   "execution_count": 541,
   "id": "8fc2f6d2",
   "metadata": {},
   "outputs": [
    {
     "name": "stdout",
     "output_type": "stream",
     "text": [
      "['southwest' 'southeast' 'northwest' 'northeast']\n"
     ]
    },
    {
     "data": {
      "text/plain": [
       "southeast    364\n",
       "southwest    325\n",
       "northwest    325\n",
       "northeast    324\n",
       "Name: region, dtype: int64"
      ]
     },
     "execution_count": 541,
     "metadata": {},
     "output_type": "execute_result"
    }
   ],
   "source": [
    "print(df['region'].unique())\n",
    "df['region'].value_counts()"
   ]
  },
  {
   "cell_type": "code",
   "execution_count": 542,
   "id": "9512afb0",
   "metadata": {},
   "outputs": [
    {
     "data": {
      "application/vnd.jupyter.widget-view+json": {
       "model_id": "f0073e9515184f94a332acc550631e39",
       "version_major": 2,
       "version_minor": 0
      },
      "text/plain": [
       "Summarize dataset:   0%|          | 0/5 [00:00<?, ?it/s]"
      ]
     },
     "metadata": {},
     "output_type": "display_data"
    },
    {
     "data": {
      "application/vnd.jupyter.widget-view+json": {
       "model_id": "6f26d1a2328a402eb1500703f8875cc3",
       "version_major": 2,
       "version_minor": 0
      },
      "text/plain": [
       "Generate report structure:   0%|          | 0/1 [00:00<?, ?it/s]"
      ]
     },
     "metadata": {},
     "output_type": "display_data"
    },
    {
     "data": {
      "application/vnd.jupyter.widget-view+json": {
       "model_id": "069f2b249422427e972cabb5f341921a",
       "version_major": 2,
       "version_minor": 0
      },
      "text/plain": [
       "Render HTML:   0%|          | 0/1 [00:00<?, ?it/s]"
      ]
     },
     "metadata": {},
     "output_type": "display_data"
    },
    {
     "data": {
      "application/vnd.jupyter.widget-view+json": {
       "model_id": "6b0b95dc9f9142b49447a5710b343795",
       "version_major": 2,
       "version_minor": 0
      },
      "text/plain": [
       "Export report to file:   0%|          | 0/1 [00:00<?, ?it/s]"
      ]
     },
     "metadata": {},
     "output_type": "display_data"
    }
   ],
   "source": [
    "from pandas_profiling import ProfileReport\n",
    "\n",
    "#The pandas profiling library can create, in a few lines of code, a rich and interactive suite of exploratory data analysis \n",
    "#(EDA) tables and visualizations.\n",
    "prof = ProfileReport(df)\n",
    "prof.to_file(output_file = '/Machine Learning/Decision Tree CR/36_Neelam Thakur_Medical insurance Decision Tree_e2e Model/templates/output.html')"
   ]
  },
  {
   "cell_type": "markdown",
   "id": "e28fa4bb",
   "metadata": {},
   "source": [
    "# 4. Feature Engineering"
   ]
  },
  {
   "cell_type": "code",
   "execution_count": 543,
   "id": "c841d5a8",
   "metadata": {},
   "outputs": [
    {
     "data": {
      "text/html": [
       "<div>\n",
       "<style scoped>\n",
       "    .dataframe tbody tr th:only-of-type {\n",
       "        vertical-align: middle;\n",
       "    }\n",
       "\n",
       "    .dataframe tbody tr th {\n",
       "        vertical-align: top;\n",
       "    }\n",
       "\n",
       "    .dataframe thead th {\n",
       "        text-align: right;\n",
       "    }\n",
       "</style>\n",
       "<table border=\"1\" class=\"dataframe\">\n",
       "  <thead>\n",
       "    <tr style=\"text-align: right;\">\n",
       "      <th></th>\n",
       "      <th>age</th>\n",
       "      <th>sex</th>\n",
       "      <th>bmi</th>\n",
       "      <th>children</th>\n",
       "      <th>smoker</th>\n",
       "      <th>region</th>\n",
       "    </tr>\n",
       "  </thead>\n",
       "  <tbody>\n",
       "    <tr>\n",
       "      <th>420</th>\n",
       "      <td>64</td>\n",
       "      <td>male</td>\n",
       "      <td>33.880</td>\n",
       "      <td>0</td>\n",
       "      <td>yes</td>\n",
       "      <td>southeast</td>\n",
       "    </tr>\n",
       "    <tr>\n",
       "      <th>1093</th>\n",
       "      <td>22</td>\n",
       "      <td>female</td>\n",
       "      <td>30.400</td>\n",
       "      <td>0</td>\n",
       "      <td>yes</td>\n",
       "      <td>northwest</td>\n",
       "    </tr>\n",
       "    <tr>\n",
       "      <th>1145</th>\n",
       "      <td>52</td>\n",
       "      <td>male</td>\n",
       "      <td>32.775</td>\n",
       "      <td>3</td>\n",
       "      <td>no</td>\n",
       "      <td>northwest</td>\n",
       "    </tr>\n",
       "    <tr>\n",
       "      <th>631</th>\n",
       "      <td>24</td>\n",
       "      <td>male</td>\n",
       "      <td>29.300</td>\n",
       "      <td>0</td>\n",
       "      <td>no</td>\n",
       "      <td>southwest</td>\n",
       "    </tr>\n",
       "    <tr>\n",
       "      <th>300</th>\n",
       "      <td>36</td>\n",
       "      <td>male</td>\n",
       "      <td>27.550</td>\n",
       "      <td>3</td>\n",
       "      <td>no</td>\n",
       "      <td>northeast</td>\n",
       "    </tr>\n",
       "    <tr>\n",
       "      <th>713</th>\n",
       "      <td>20</td>\n",
       "      <td>male</td>\n",
       "      <td>40.470</td>\n",
       "      <td>0</td>\n",
       "      <td>no</td>\n",
       "      <td>northeast</td>\n",
       "    </tr>\n",
       "    <tr>\n",
       "      <th>802</th>\n",
       "      <td>21</td>\n",
       "      <td>male</td>\n",
       "      <td>22.300</td>\n",
       "      <td>1</td>\n",
       "      <td>no</td>\n",
       "      <td>southwest</td>\n",
       "    </tr>\n",
       "    <tr>\n",
       "      <th>907</th>\n",
       "      <td>44</td>\n",
       "      <td>female</td>\n",
       "      <td>32.340</td>\n",
       "      <td>1</td>\n",
       "      <td>no</td>\n",
       "      <td>southeast</td>\n",
       "    </tr>\n",
       "    <tr>\n",
       "      <th>179</th>\n",
       "      <td>41</td>\n",
       "      <td>female</td>\n",
       "      <td>33.155</td>\n",
       "      <td>3</td>\n",
       "      <td>no</td>\n",
       "      <td>northeast</td>\n",
       "    </tr>\n",
       "    <tr>\n",
       "      <th>817</th>\n",
       "      <td>23</td>\n",
       "      <td>male</td>\n",
       "      <td>37.100</td>\n",
       "      <td>3</td>\n",
       "      <td>no</td>\n",
       "      <td>southwest</td>\n",
       "    </tr>\n",
       "  </tbody>\n",
       "</table>\n",
       "</div>"
      ],
      "text/plain": [
       "      age     sex     bmi  children smoker     region\n",
       "420    64    male  33.880         0    yes  southeast\n",
       "1093   22  female  30.400         0    yes  northwest\n",
       "1145   52    male  32.775         3     no  northwest\n",
       "631    24    male  29.300         0     no  southwest\n",
       "300    36    male  27.550         3     no  northeast\n",
       "713    20    male  40.470         0     no  northeast\n",
       "802    21    male  22.300         1     no  southwest\n",
       "907    44  female  32.340         1     no  southeast\n",
       "179    41  female  33.155         3     no  northeast\n",
       "817    23    male  37.100         3     no  southwest"
      ]
     },
     "execution_count": 543,
     "metadata": {},
     "output_type": "execute_result"
    }
   ],
   "source": [
    "df1 = pd.DataFrame(df.drop('charges', axis = 1))\n",
    "df1.sample(10)"
   ]
  },
  {
   "cell_type": "markdown",
   "id": "1229ae07",
   "metadata": {},
   "source": [
    "##### 1. Encoding (Converting Categorical data into Numerical form)"
   ]
  },
  {
   "cell_type": "code",
   "execution_count": 544,
   "id": "ad05f076",
   "metadata": {},
   "outputs": [
    {
     "data": {
      "text/html": [
       "<div>\n",
       "<style scoped>\n",
       "    .dataframe tbody tr th:only-of-type {\n",
       "        vertical-align: middle;\n",
       "    }\n",
       "\n",
       "    .dataframe tbody tr th {\n",
       "        vertical-align: top;\n",
       "    }\n",
       "\n",
       "    .dataframe thead th {\n",
       "        text-align: right;\n",
       "    }\n",
       "</style>\n",
       "<table border=\"1\" class=\"dataframe\">\n",
       "  <thead>\n",
       "    <tr style=\"text-align: right;\">\n",
       "      <th></th>\n",
       "      <th>age</th>\n",
       "      <th>bmi</th>\n",
       "      <th>children</th>\n",
       "      <th>sex_female</th>\n",
       "      <th>sex_male</th>\n",
       "      <th>smoker_no</th>\n",
       "      <th>smoker_yes</th>\n",
       "      <th>region_northeast</th>\n",
       "      <th>region_northwest</th>\n",
       "      <th>region_southeast</th>\n",
       "      <th>region_southwest</th>\n",
       "      <th>charges</th>\n",
       "    </tr>\n",
       "  </thead>\n",
       "  <tbody>\n",
       "    <tr>\n",
       "      <th>1127</th>\n",
       "      <td>35</td>\n",
       "      <td>35.860</td>\n",
       "      <td>2</td>\n",
       "      <td>1</td>\n",
       "      <td>0</td>\n",
       "      <td>1</td>\n",
       "      <td>0</td>\n",
       "      <td>0</td>\n",
       "      <td>0</td>\n",
       "      <td>1</td>\n",
       "      <td>0</td>\n",
       "      <td>5836.52040</td>\n",
       "    </tr>\n",
       "    <tr>\n",
       "      <th>276</th>\n",
       "      <td>19</td>\n",
       "      <td>20.615</td>\n",
       "      <td>2</td>\n",
       "      <td>0</td>\n",
       "      <td>1</td>\n",
       "      <td>1</td>\n",
       "      <td>0</td>\n",
       "      <td>0</td>\n",
       "      <td>1</td>\n",
       "      <td>0</td>\n",
       "      <td>0</td>\n",
       "      <td>2803.69785</td>\n",
       "    </tr>\n",
       "    <tr>\n",
       "      <th>934</th>\n",
       "      <td>32</td>\n",
       "      <td>37.180</td>\n",
       "      <td>2</td>\n",
       "      <td>0</td>\n",
       "      <td>1</td>\n",
       "      <td>1</td>\n",
       "      <td>0</td>\n",
       "      <td>0</td>\n",
       "      <td>0</td>\n",
       "      <td>1</td>\n",
       "      <td>0</td>\n",
       "      <td>4673.39220</td>\n",
       "    </tr>\n",
       "    <tr>\n",
       "      <th>676</th>\n",
       "      <td>55</td>\n",
       "      <td>40.810</td>\n",
       "      <td>3</td>\n",
       "      <td>1</td>\n",
       "      <td>0</td>\n",
       "      <td>1</td>\n",
       "      <td>0</td>\n",
       "      <td>0</td>\n",
       "      <td>0</td>\n",
       "      <td>1</td>\n",
       "      <td>0</td>\n",
       "      <td>12485.80090</td>\n",
       "    </tr>\n",
       "    <tr>\n",
       "      <th>509</th>\n",
       "      <td>57</td>\n",
       "      <td>28.700</td>\n",
       "      <td>0</td>\n",
       "      <td>1</td>\n",
       "      <td>0</td>\n",
       "      <td>1</td>\n",
       "      <td>0</td>\n",
       "      <td>0</td>\n",
       "      <td>0</td>\n",
       "      <td>0</td>\n",
       "      <td>1</td>\n",
       "      <td>11455.28000</td>\n",
       "    </tr>\n",
       "    <tr>\n",
       "      <th>963</th>\n",
       "      <td>46</td>\n",
       "      <td>24.795</td>\n",
       "      <td>3</td>\n",
       "      <td>0</td>\n",
       "      <td>1</td>\n",
       "      <td>1</td>\n",
       "      <td>0</td>\n",
       "      <td>1</td>\n",
       "      <td>0</td>\n",
       "      <td>0</td>\n",
       "      <td>0</td>\n",
       "      <td>9500.57305</td>\n",
       "    </tr>\n",
       "    <tr>\n",
       "      <th>925</th>\n",
       "      <td>50</td>\n",
       "      <td>32.110</td>\n",
       "      <td>2</td>\n",
       "      <td>0</td>\n",
       "      <td>1</td>\n",
       "      <td>1</td>\n",
       "      <td>0</td>\n",
       "      <td>1</td>\n",
       "      <td>0</td>\n",
       "      <td>0</td>\n",
       "      <td>0</td>\n",
       "      <td>25333.33284</td>\n",
       "    </tr>\n",
       "    <tr>\n",
       "      <th>953</th>\n",
       "      <td>44</td>\n",
       "      <td>30.200</td>\n",
       "      <td>2</td>\n",
       "      <td>0</td>\n",
       "      <td>1</td>\n",
       "      <td>0</td>\n",
       "      <td>1</td>\n",
       "      <td>0</td>\n",
       "      <td>0</td>\n",
       "      <td>0</td>\n",
       "      <td>1</td>\n",
       "      <td>38998.54600</td>\n",
       "    </tr>\n",
       "    <tr>\n",
       "      <th>1181</th>\n",
       "      <td>24</td>\n",
       "      <td>29.925</td>\n",
       "      <td>0</td>\n",
       "      <td>1</td>\n",
       "      <td>0</td>\n",
       "      <td>1</td>\n",
       "      <td>0</td>\n",
       "      <td>0</td>\n",
       "      <td>1</td>\n",
       "      <td>0</td>\n",
       "      <td>0</td>\n",
       "      <td>2850.68375</td>\n",
       "    </tr>\n",
       "    <tr>\n",
       "      <th>1217</th>\n",
       "      <td>29</td>\n",
       "      <td>37.290</td>\n",
       "      <td>2</td>\n",
       "      <td>0</td>\n",
       "      <td>1</td>\n",
       "      <td>1</td>\n",
       "      <td>0</td>\n",
       "      <td>0</td>\n",
       "      <td>0</td>\n",
       "      <td>1</td>\n",
       "      <td>0</td>\n",
       "      <td>4058.11610</td>\n",
       "    </tr>\n",
       "  </tbody>\n",
       "</table>\n",
       "</div>"
      ],
      "text/plain": [
       "      age     bmi  children  sex_female  sex_male  smoker_no  smoker_yes  \\\n",
       "1127   35  35.860         2           1         0          1           0   \n",
       "276    19  20.615         2           0         1          1           0   \n",
       "934    32  37.180         2           0         1          1           0   \n",
       "676    55  40.810         3           1         0          1           0   \n",
       "509    57  28.700         0           1         0          1           0   \n",
       "963    46  24.795         3           0         1          1           0   \n",
       "925    50  32.110         2           0         1          1           0   \n",
       "953    44  30.200         2           0         1          0           1   \n",
       "1181   24  29.925         0           1         0          1           0   \n",
       "1217   29  37.290         2           0         1          1           0   \n",
       "\n",
       "      region_northeast  region_northwest  region_southeast  region_southwest  \\\n",
       "1127                 0                 0                 1                 0   \n",
       "276                  0                 1                 0                 0   \n",
       "934                  0                 0                 1                 0   \n",
       "676                  0                 0                 1                 0   \n",
       "509                  0                 0                 0                 1   \n",
       "963                  1                 0                 0                 0   \n",
       "925                  1                 0                 0                 0   \n",
       "953                  0                 0                 0                 1   \n",
       "1181                 0                 1                 0                 0   \n",
       "1217                 0                 0                 1                 0   \n",
       "\n",
       "          charges  \n",
       "1127   5836.52040  \n",
       "276    2803.69785  \n",
       "934    4673.39220  \n",
       "676   12485.80090  \n",
       "509   11455.28000  \n",
       "963    9500.57305  \n",
       "925   25333.33284  \n",
       "953   38998.54600  \n",
       "1181   2850.68375  \n",
       "1217   4058.11610  "
      ]
     },
     "execution_count": 544,
     "metadata": {},
     "output_type": "execute_result"
    }
   ],
   "source": [
    "df1 = pd.get_dummies(df1)\n",
    "df1['charges'] = df['charges']\n",
    "df1.sample(10)"
   ]
  },
  {
   "cell_type": "markdown",
   "id": "b33a0d99",
   "metadata": {},
   "source": [
    "#### 2. Outliers Imputation"
   ]
  },
  {
   "cell_type": "markdown",
   "id": "f7b997e7",
   "metadata": {},
   "source": [
    "###### 1."
   ]
  },
  {
   "cell_type": "code",
   "execution_count": 545,
   "id": "9fb2a4f8",
   "metadata": {},
   "outputs": [
    {
     "data": {
      "text/plain": [
       "<AxesSubplot:xlabel='age'>"
      ]
     },
     "execution_count": 545,
     "metadata": {},
     "output_type": "execute_result"
    },
    {
     "data": {
      "image/png": "[encoded data removed]",
      "text/plain": [
       "<Figure size 1500x300 with 1 Axes>"
      ]
     },
     "metadata": {},
     "output_type": "display_data"
    }
   ],
   "source": [
    "plt.figure(figsize = (15,3))\n",
    "sns.boxplot(df1['age'])              # No outliers"
   ]
  },
  {
   "cell_type": "markdown",
   "id": "8ea5041d",
   "metadata": {},
   "source": [
    "###### 2."
   ]
  },
  {
   "cell_type": "code",
   "execution_count": 546,
   "id": "c3bc4256",
   "metadata": {},
   "outputs": [
    {
     "data": {
      "text/plain": [
       "<AxesSubplot:xlabel='bmi'>"
      ]
     },
     "execution_count": 546,
     "metadata": {},
     "output_type": "execute_result"
    },
    {
     "data": {
      "image/png": "[encoded data removed]",
      "text/plain": [
       "<Figure size 1500x300 with 1 Axes>"
      ]
     },
     "metadata": {},
     "output_type": "display_data"
    }
   ],
   "source": [
    "plt.figure(figsize = (15,3))\n",
    "sns.boxplot(df1['bmi'])              # Their are outliers"
   ]
  },
  {
   "cell_type": "code",
   "execution_count": 547,
   "id": "a43db84a",
   "metadata": {},
   "outputs": [
    {
     "name": "stdout",
     "output_type": "stream",
     "text": [
      "Q1 : 26.29625\n",
      "Q2 : 30.4\n",
      "Q3 : 34.69375\n",
      "Median : 30.4\n",
      "upper_tail : 47.290000000000006\n",
      "lower_tail : 13.7\n"
     ]
    }
   ],
   "source": [
    "# Outlier Imputation using IQR method\n",
    "\n",
    "q1 = df1['bmi'].quantile(0.25)\n",
    "q2 = df1['bmi'].quantile(0.50)\n",
    "q3 = df1['bmi'].quantile(0.75)\n",
    "median = df['bmi'].median()\n",
    "\n",
    "IQR = q3 - q1\n",
    "\n",
    "upper_tail = q3 + (1.5 * IQR)\n",
    "lower_tail = q1 - (1.5 * IQR)\n",
    "\n",
    "print(\"Q1 :\", q1)\n",
    "print(\"Q2 :\", q2)\n",
    "print(\"Q3 :\", q3)\n",
    "print(\"Median :\",median)\n",
    "\n",
    "print(\"upper_tail :\", upper_tail)\n",
    "print(\"lower_tail :\", lower_tail)"
   ]
  },
  {
   "cell_type": "code",
   "execution_count": 548,
   "id": "af2a98d3",
   "metadata": {},
   "outputs": [
    {
     "data": {
      "text/html": [
       "<div>\n",
       "<style scoped>\n",
       "    .dataframe tbody tr th:only-of-type {\n",
       "        vertical-align: middle;\n",
       "    }\n",
       "\n",
       "    .dataframe tbody tr th {\n",
       "        vertical-align: top;\n",
       "    }\n",
       "\n",
       "    .dataframe thead th {\n",
       "        text-align: right;\n",
       "    }\n",
       "</style>\n",
       "<table border=\"1\" class=\"dataframe\">\n",
       "  <thead>\n",
       "    <tr style=\"text-align: right;\">\n",
       "      <th></th>\n",
       "      <th>bmi</th>\n",
       "    </tr>\n",
       "  </thead>\n",
       "  <tbody>\n",
       "    <tr>\n",
       "      <th>116</th>\n",
       "      <td>49.06</td>\n",
       "    </tr>\n",
       "    <tr>\n",
       "      <th>286</th>\n",
       "      <td>48.07</td>\n",
       "    </tr>\n",
       "    <tr>\n",
       "      <th>401</th>\n",
       "      <td>47.52</td>\n",
       "    </tr>\n",
       "    <tr>\n",
       "      <th>543</th>\n",
       "      <td>47.41</td>\n",
       "    </tr>\n",
       "    <tr>\n",
       "      <th>847</th>\n",
       "      <td>50.38</td>\n",
       "    </tr>\n",
       "    <tr>\n",
       "      <th>860</th>\n",
       "      <td>47.60</td>\n",
       "    </tr>\n",
       "    <tr>\n",
       "      <th>1047</th>\n",
       "      <td>52.58</td>\n",
       "    </tr>\n",
       "    <tr>\n",
       "      <th>1088</th>\n",
       "      <td>47.74</td>\n",
       "    </tr>\n",
       "    <tr>\n",
       "      <th>1317</th>\n",
       "      <td>53.13</td>\n",
       "    </tr>\n",
       "  </tbody>\n",
       "</table>\n",
       "</div>"
      ],
      "text/plain": [
       "        bmi\n",
       "116   49.06\n",
       "286   48.07\n",
       "401   47.52\n",
       "543   47.41\n",
       "847   50.38\n",
       "860   47.60\n",
       "1047  52.58\n",
       "1088  47.74\n",
       "1317  53.13"
      ]
     },
     "execution_count": 548,
     "metadata": {},
     "output_type": "execute_result"
    }
   ],
   "source": [
    "df1[['bmi']].loc[df1['bmi'] > upper_tail] # uppertail outliers"
   ]
  },
  {
   "cell_type": "code",
   "execution_count": 549,
   "id": "6377f5c4",
   "metadata": {},
   "outputs": [
    {
     "data": {
      "text/html": [
       "<div>\n",
       "<style scoped>\n",
       "    .dataframe tbody tr th:only-of-type {\n",
       "        vertical-align: middle;\n",
       "    }\n",
       "\n",
       "    .dataframe tbody tr th {\n",
       "        vertical-align: top;\n",
       "    }\n",
       "\n",
       "    .dataframe thead th {\n",
       "        text-align: right;\n",
       "    }\n",
       "</style>\n",
       "<table border=\"1\" class=\"dataframe\">\n",
       "  <thead>\n",
       "    <tr style=\"text-align: right;\">\n",
       "      <th></th>\n",
       "      <th>bmi</th>\n",
       "    </tr>\n",
       "  </thead>\n",
       "  <tbody>\n",
       "  </tbody>\n",
       "</table>\n",
       "</div>"
      ],
      "text/plain": [
       "Empty DataFrame\n",
       "Columns: [bmi]\n",
       "Index: []"
      ]
     },
     "execution_count": 549,
     "metadata": {},
     "output_type": "execute_result"
    }
   ],
   "source": [
    "df1[['bmi']].loc[df1['bmi'] < lower_tail] # lowertail outliers"
   ]
  },
  {
   "cell_type": "code",
   "execution_count": 550,
   "id": "cf6785ad",
   "metadata": {},
   "outputs": [],
   "source": [
    "df1.loc[df1['bmi'] > upper_tail, 'bmi'] = upper_tail # Outlier imputation using uppertail value"
   ]
  },
  {
   "cell_type": "code",
   "execution_count": 551,
   "id": "e6361641",
   "metadata": {},
   "outputs": [
    {
     "data": {
      "text/plain": [
       "<AxesSubplot:xlabel='bmi'>"
      ]
     },
     "execution_count": 551,
     "metadata": {},
     "output_type": "execute_result"
    },
    {
     "data": {
      "image/png": "[encoded data removed]",
      "text/plain": [
       "<Figure size 1500x300 with 1 Axes>"
      ]
     },
     "metadata": {},
     "output_type": "display_data"
    }
   ],
   "source": [
    "plt.figure(figsize = (15,3))\n",
    "sns.boxplot(df1['bmi'])"
   ]
  },
  {
   "cell_type": "markdown",
   "id": "6dfa4f1e",
   "metadata": {},
   "source": [
    "###### 3."
   ]
  },
  {
   "cell_type": "code",
   "execution_count": 552,
   "id": "7f4530b4",
   "metadata": {},
   "outputs": [
    {
     "data": {
      "text/plain": [
       "<AxesSubplot:xlabel='children'>"
      ]
     },
     "execution_count": 552,
     "metadata": {},
     "output_type": "execute_result"
    },
    {
     "data": {
      "image/png": "[encoded data removed]",
      "text/plain": [
       "<Figure size 1500x300 with 1 Axes>"
      ]
     },
     "metadata": {},
     "output_type": "display_data"
    }
   ],
   "source": [
    "plt.figure(figsize = (15,3))\n",
    "sns.boxplot(df1['children'])              # No outliers"
   ]
  },
  {
   "cell_type": "code",
   "execution_count": 553,
   "id": "f4d258ff",
   "metadata": {},
   "outputs": [
    {
     "data": {
      "text/plain": [
       "<AxesSubplot:>"
      ]
     },
     "execution_count": 553,
     "metadata": {},
     "output_type": "execute_result"
    },
    {
     "data": {
      "image/png": "[encoded data removed]",
      "text/plain": [
       "<Figure size 2000x700 with 1 Axes>"
      ]
     },
     "metadata": {},
     "output_type": "display_data"
    }
   ],
   "source": [
    "plt.figure(figsize = (20,7))\n",
    "df1.boxplot()"
   ]
  },
  {
   "cell_type": "markdown",
   "id": "64f7d7a9",
   "metadata": {},
   "source": [
    "# 5. Model Building"
   ]
  },
  {
   "cell_type": "markdown",
   "id": "5b28538b",
   "metadata": {},
   "source": [
    "#### 1. Splitting the data into Traing data and Tesing data"
   ]
  },
  {
   "cell_type": "code",
   "execution_count": 554,
   "id": "8e363218",
   "metadata": {},
   "outputs": [],
   "source": [
    "x = df1.drop('charges', axis = 1)\n",
    "y = df1['charges']"
   ]
  },
  {
   "cell_type": "code",
   "execution_count": 555,
   "id": "6e2a1f7a",
   "metadata": {},
   "outputs": [],
   "source": [
    "x_train, x_test, y_train, y_test = train_test_split(x, y, test_size = 0.20, random_state = 10)"
   ]
  },
  {
   "cell_type": "code",
   "execution_count": 556,
   "id": "61d3378a",
   "metadata": {},
   "outputs": [
    {
     "data": {
      "text/plain": [
       "(1070, 11)"
      ]
     },
     "execution_count": 556,
     "metadata": {},
     "output_type": "execute_result"
    }
   ],
   "source": [
    "x_train.shape"
   ]
  },
  {
   "cell_type": "code",
   "execution_count": 557,
   "id": "5832b3d2",
   "metadata": {},
   "outputs": [
    {
     "data": {
      "text/plain": [
       "(268, 11)"
      ]
     },
     "execution_count": 557,
     "metadata": {},
     "output_type": "execute_result"
    }
   ],
   "source": [
    "x_test.shape"
   ]
  },
  {
   "cell_type": "code",
   "execution_count": 558,
   "id": "e6b73649",
   "metadata": {},
   "outputs": [
    {
     "data": {
      "text/plain": [
       "(1070,)"
      ]
     },
     "execution_count": 558,
     "metadata": {},
     "output_type": "execute_result"
    }
   ],
   "source": [
    "y_train.shape"
   ]
  },
  {
   "cell_type": "code",
   "execution_count": 559,
   "id": "bd60457b",
   "metadata": {},
   "outputs": [
    {
     "data": {
      "text/plain": [
       "(268,)"
      ]
     },
     "execution_count": 559,
     "metadata": {},
     "output_type": "execute_result"
    }
   ],
   "source": [
    "y_test.shape"
   ]
  },
  {
   "cell_type": "markdown",
   "id": "44a35718",
   "metadata": {},
   "source": [
    "#### 2. Model Instance Creation"
   ]
  },
  {
   "cell_type": "code",
   "execution_count": 560,
   "id": "5509033f",
   "metadata": {},
   "outputs": [],
   "source": [
    "dec_tree_reg = DecisionTreeRegressor()\n",
    "model_details.append(\"Basic Model\")"
   ]
  },
  {
   "cell_type": "markdown",
   "id": "caf2a3bc",
   "metadata": {},
   "source": [
    "#### 3. Model fitting on training data"
   ]
  },
  {
   "cell_type": "code",
   "execution_count": 561,
   "id": "81cce182",
   "metadata": {},
   "outputs": [
    {
     "name": "stdout",
     "output_type": "stream",
     "text": [
      "DecisionTreeRegressor()\n"
     ]
    }
   ],
   "source": [
    "print(dec_tree_reg.fit(x_train,y_train))\n",
    "model_instance.append(\"dec_tree_reg\")"
   ]
  },
  {
   "cell_type": "markdown",
   "id": "b5dded1b",
   "metadata": {},
   "source": [
    "# 6. Model Evaluation"
   ]
  },
  {
   "cell_type": "markdown",
   "id": "ea351e96",
   "metadata": {},
   "source": [
    "#### 1. Evaluation on Traing Data"
   ]
  },
  {
   "cell_type": "code",
   "execution_count": 562,
   "id": "208d0718",
   "metadata": {},
   "outputs": [
    {
     "data": {
      "text/plain": [
       "array([ 1646.4297 ,  9617.66245,  2203.47185,  1137.011  ,  9487.6442 ,\n",
       "        7731.85785,  7443.64305,  2523.1695 , 34472.841  ,  1969.614  ])"
      ]
     },
     "execution_count": 562,
     "metadata": {},
     "output_type": "execute_result"
    }
   ],
   "source": [
    "y_pred_train = dec_tree_reg.predict(x_train)\n",
    "y_pred_train[:10]"
   ]
  },
  {
   "cell_type": "code",
   "execution_count": 563,
   "id": "5b640f73",
   "metadata": {},
   "outputs": [
    {
     "name": "stdout",
     "output_type": "stream",
     "text": [
      "Mean Sqaured Error : 0.0\n",
      "Root Mean Sqaured Error : 0.0\n",
      "Mean Absolute Error : 0.0\n",
      "R Squared Value : 1.0\n"
     ]
    }
   ],
   "source": [
    "mse = mean_squared_error(y_train, y_pred_train)\n",
    "print(\"Mean Sqaured Error :\",mse)\n",
    "\n",
    "rmse = np.sqrt(mse)\n",
    "print(\"Root Mean Sqaured Error :\",rmse)\n",
    "\n",
    "mae = mean_absolute_error(y_train, y_pred_train)\n",
    "print(\"Mean Absolute Error :\",mae)\n",
    "\n",
    "r_squared_value = r2_score(y_train, y_pred_train)\n",
    "print(\"R Squared Value :\",r_squared_value)\n",
    "\n",
    "training_accuracy.append(r_squared_value)"
   ]
  },
  {
   "cell_type": "markdown",
   "id": "1a8b7e4f",
   "metadata": {},
   "source": [
    "#### 2. Evaluation on Testing Data"
   ]
  },
  {
   "cell_type": "code",
   "execution_count": 564,
   "id": "acfe8364",
   "metadata": {},
   "outputs": [
    {
     "data": {
      "text/plain": [
       "array([ 6198.7518 ,  5272.1758 , 27941.28758, 12142.5786 ,  3556.9223 ,\n",
       "        7639.41745, 14478.33015, 26125.67477,  9193.8385 , 18767.7377 ])"
      ]
     },
     "execution_count": 564,
     "metadata": {},
     "output_type": "execute_result"
    }
   ],
   "source": [
    "y_pred_test = dec_tree_reg.predict(x_test)\n",
    "y_pred_test[:10]"
   ]
  },
  {
   "cell_type": "code",
   "execution_count": 565,
   "id": "786e1ccc",
   "metadata": {},
   "outputs": [
    {
     "name": "stdout",
     "output_type": "stream",
     "text": [
      "Mean Sqaured Error : 46682639.824935\n",
      "Root Mean Sqaured Error : 6832.469526089011\n",
      "Mean Absolute Error : 3319.394485858209\n",
      "R Squared Value : 0.6671486091239558\n"
     ]
    }
   ],
   "source": [
    "mse = mean_squared_error(y_test, y_pred_test)\n",
    "print(\"Mean Sqaured Error :\",mse)\n",
    "\n",
    "rmse = np.sqrt(mse)\n",
    "print(\"Root Mean Sqaured Error :\",rmse)\n",
    "\n",
    "mae = mean_absolute_error(y_test, y_pred_test)\n",
    "print(\"Mean Absolute Error :\",mae)\n",
    "\n",
    "r_squared_value = r2_score(y_test, y_pred_test)\n",
    "print(\"R Squared Value :\",r_squared_value)\n",
    "\n",
    "testing_accuracy.append(r_squared_value)"
   ]
  },
  {
   "cell_type": "markdown",
   "id": "f90aecee",
   "metadata": {},
   "source": [
    "plt.figure(figsize=(500,500))\n",
    "plot_tree(dec_tree_reg, feature_names=x.columns,  filled=True, rounded=True, precision=2)\n",
    "print()\n",
    "plt.savefig(\"/Machine Learning/Decision Tree CR/36_Neelam Thakur_Medical insurance Decision Tree_e2e Model/templates/Simple Decision Tree.png\")"
   ]
  },
  {
   "cell_type": "markdown",
   "id": "7edf507b",
   "metadata": {},
   "source": [
    "###  Techniques to avoid Overfitting"
   ]
  },
  {
   "cell_type": "markdown",
   "id": "c40e48a0",
   "metadata": {},
   "source": [
    "#### 1. Feature Selection"
   ]
  },
  {
   "cell_type": "code",
   "execution_count": 566,
   "id": "4bef63f5",
   "metadata": {},
   "outputs": [
    {
     "data": {
      "text/plain": [
       "array([0.13400354, 0.20364573, 0.01680973, 0.00370698, 0.00330842,\n",
       "       0.62282096, 0.        , 0.00349671, 0.00366893, 0.00466114,\n",
       "       0.00387785])"
      ]
     },
     "execution_count": 566,
     "metadata": {},
     "output_type": "execute_result"
    }
   ],
   "source": [
    "array = dec_tree_reg.feature_importances_\n",
    "array"
   ]
  },
  {
   "cell_type": "code",
   "execution_count": 567,
   "id": "4e9b7dad",
   "metadata": {},
   "outputs": [
    {
     "data": {
      "text/plain": [
       "<AxesSubplot:>"
      ]
     },
     "execution_count": 567,
     "metadata": {},
     "output_type": "execute_result"
    },
    {
     "data": {
      "image/png": "[encoded data removed]",
      "text/plain": [
       "<Figure size 640x480 with 1 Axes>"
      ]
     },
     "metadata": {},
     "output_type": "display_data"
    }
   ],
   "source": [
    "s1 = pd.Series(array * 100, index=x.columns)\n",
    "s1.sort_values().plot(kind = \"barh\")"
   ]
  },
  {
   "cell_type": "code",
   "execution_count": 568,
   "id": "297b7a3e",
   "metadata": {},
   "outputs": [],
   "source": [
    "# Instance Creation\n",
    "dec_tree_reg_feature_sel = DecisionTreeRegressor(random_state = 10)\n",
    "model_details.append(\"Feature Selection\")\n",
    "model_instance.append(\"dec_tree_reg_feature_sel\")"
   ]
  },
  {
   "cell_type": "markdown",
   "id": "92b44f5a",
   "metadata": {},
   "source": [
    "##### 1. Evaluation on Training Data"
   ]
  },
  {
   "cell_type": "code",
   "execution_count": 569,
   "id": "2da873ef",
   "metadata": {},
   "outputs": [],
   "source": [
    "# Model fitting only on important features"
   ]
  },
  {
   "cell_type": "code",
   "execution_count": 570,
   "id": "4cbbb123",
   "metadata": {},
   "outputs": [
    {
     "data": {
      "text/plain": [
       "DecisionTreeRegressor(random_state=10)"
      ]
     },
     "execution_count": 570,
     "metadata": {},
     "output_type": "execute_result"
    }
   ],
   "source": [
    "dec_tree_reg_feature_sel.fit(x_train[['smoker_no','bmi', 'age', 'children', 'region_southwest', 'region_southeast', 'region_northwest', 'region_northeast']], y_train)"
   ]
  },
  {
   "cell_type": "code",
   "execution_count": 571,
   "id": "fec01446",
   "metadata": {},
   "outputs": [
    {
     "data": {
      "text/plain": [
       "array([ 1646.4297 ,  9617.66245,  2203.47185,  1137.011  ,  9487.6442 ,\n",
       "        7731.85785,  7443.64305,  2523.1695 , 34472.841  ,  1969.614  ])"
      ]
     },
     "execution_count": 571,
     "metadata": {},
     "output_type": "execute_result"
    }
   ],
   "source": [
    "y_pred_train = dec_tree_reg_feature_sel.predict(x_train[['smoker_no','bmi', 'age', 'children', 'region_southwest', 'region_southeast', 'region_northwest', 'region_northeast']])\n",
    "y_pred_train[:10]"
   ]
  },
  {
   "cell_type": "code",
   "execution_count": 572,
   "id": "0012bbe7",
   "metadata": {},
   "outputs": [
    {
     "name": "stdout",
     "output_type": "stream",
     "text": [
      "Mean Sqaured Error : 223.47757009345784\n",
      "Root Mean Sqaured Error : 14.949166200609914\n",
      "Mean Absolute Error : 0.9140186915887848\n",
      "R Squared Value : 0.9999984909733388\n"
     ]
    }
   ],
   "source": [
    "mse = mean_squared_error(y_train, y_pred_train)\n",
    "print(\"Mean Sqaured Error :\",mse)\n",
    "\n",
    "rmse = np.sqrt(mse)\n",
    "print(\"Root Mean Sqaured Error :\",rmse)\n",
    "\n",
    "mae = mean_absolute_error(y_train, y_pred_train)\n",
    "print(\"Mean Absolute Error :\",mae)\n",
    "\n",
    "r_squared_value = r2_score(y_train, y_pred_train)\n",
    "print(\"R Squared Value :\",r_squared_value)\n",
    "\n",
    "training_accuracy.append(r_squared_value)"
   ]
  },
  {
   "cell_type": "markdown",
   "id": "4cc808f9",
   "metadata": {},
   "source": [
    "##### 2. Evaluation on Testing Data"
   ]
  },
  {
   "cell_type": "code",
   "execution_count": 573,
   "id": "8f7925e8",
   "metadata": {},
   "outputs": [
    {
     "data": {
      "text/plain": [
       "array([ 6455.86265,  5272.1758 , 31620.00106, 12142.5786 ,  3062.50825,\n",
       "        7639.41745, 14478.33015, 26125.67477,  8891.1395 , 18767.7377 ])"
      ]
     },
     "execution_count": 573,
     "metadata": {},
     "output_type": "execute_result"
    }
   ],
   "source": [
    "y_pred_test = dec_tree_reg_feature_sel.predict(x_test[['smoker_no','bmi', 'age', 'children', 'region_southwest', 'region_southeast', 'region_northwest', 'region_northeast']])\n",
    "y_pred_test[:10]"
   ]
  },
  {
   "cell_type": "code",
   "execution_count": 574,
   "id": "d1bdc79c",
   "metadata": {},
   "outputs": [
    {
     "name": "stdout",
     "output_type": "stream",
     "text": [
      "Mean Sqaured Error : 44750430.897521324\n",
      "Root Mean Sqaured Error : 6689.576286845178\n",
      "Mean Absolute Error : 3271.049288432836\n",
      "R Squared Value : 0.6809254313294821\n"
     ]
    }
   ],
   "source": [
    "mse = mean_squared_error(y_test, y_pred_test)\n",
    "print(\"Mean Sqaured Error :\",mse)\n",
    "\n",
    "rmse = np.sqrt(mse)\n",
    "print(\"Root Mean Sqaured Error :\",rmse)\n",
    "\n",
    "mae = mean_absolute_error(y_test, y_pred_test)\n",
    "print(\"Mean Absolute Error :\",mae)\n",
    "\n",
    "r_squared_value = r2_score(y_test, y_pred_test)\n",
    "print(\"R Squared Value :\",r_squared_value)\n",
    "\n",
    "testing_accuracy.append(r_squared_value)"
   ]
  },
  {
   "cell_type": "markdown",
   "id": "3e4ac1af",
   "metadata": {},
   "source": [
    "#### 2. HyperParameter Tunning"
   ]
  },
  {
   "cell_type": "markdown",
   "id": "114c68e2",
   "metadata": {},
   "source": [
    "###### 1. Pre Pruning"
   ]
  },
  {
   "cell_type": "code",
   "execution_count": 575,
   "id": "612fe88a",
   "metadata": {},
   "outputs": [],
   "source": [
    "dt_reg = DecisionTreeRegressor(random_state = 10)\n",
    "\n",
    "hyperparameter = {\"criterion\":['squared_error', 'absolute_error'], \n",
    "                  \"max_depth\": np.arange(2,10),\n",
    "                 \"min_samples_split\": np.arange(2,20),\n",
    "                 \"min_samples_leaf\": np.arange(2,15)}  \n",
    "\n",
    "gscv_dt_reg = GridSearchCV(dt_reg, hyperparameter, cv=5)\n",
    "gscv_dt_reg.fit(x_train, y_train)\n",
    "\n",
    "model_details.append(\"HyperParameter Pre Pruning\")"
   ]
  },
  {
   "cell_type": "code",
   "execution_count": 576,
   "id": "300350a0",
   "metadata": {},
   "outputs": [
    {
     "data": {
      "text/plain": [
       "DecisionTreeRegressor(criterion='absolute_error', max_depth=8,\n",
       "                      min_samples_leaf=9, random_state=10)"
      ]
     },
     "execution_count": 576,
     "metadata": {},
     "output_type": "execute_result"
    }
   ],
   "source": [
    "gscv_dt_reg.best_estimator_"
   ]
  },
  {
   "cell_type": "code",
   "execution_count": 577,
   "id": "ecc36f7e",
   "metadata": {},
   "outputs": [
    {
     "data": {
      "text/plain": [
       "DecisionTreeRegressor(criterion='absolute_error', max_depth=8,\n",
       "                      min_samples_leaf=9, random_state=10)"
      ]
     },
     "execution_count": 577,
     "metadata": {},
     "output_type": "execute_result"
    }
   ],
   "source": [
    "dt_reg_HPT_PP_model = gscv_dt_reg.best_estimator_\n",
    "model_instance.append(\"dt_reg_HPT_PP_model\")\n",
    "dt_reg_HPT_PP_model.fit(x_train, y_train)"
   ]
  },
  {
   "cell_type": "code",
   "execution_count": 578,
   "id": "4da60b3e",
   "metadata": {},
   "outputs": [
    {
     "name": "stdout",
     "output_type": "stream",
     "text": [
      "Mean Sqaured Error : 19332025.824149843\n",
      "Root Mean Sqaured Error : 4396.81996722061\n",
      "Mean Absolute Error : 1589.3561317467288\n",
      "R Squared Value : 0.8694609827241333\n"
     ]
    }
   ],
   "source": [
    "# Evaluation on Training Data\n",
    "y_pred_train = dt_reg_HPT_PP_model.predict(x_train)\n",
    "\n",
    "mse = mean_squared_error(y_train, y_pred_train)\n",
    "print(\"Mean Sqaured Error :\",mse)\n",
    "\n",
    "rmse = np.sqrt(mse)\n",
    "print(\"Root Mean Sqaured Error :\",rmse)\n",
    "\n",
    "mae = mean_absolute_error(y_train, y_pred_train)\n",
    "print(\"Mean Absolute Error :\",mae)\n",
    "\n",
    "r_squared_value = r2_score(y_train, y_pred_train)\n",
    "print(\"R Squared Value :\",r_squared_value)\n",
    "\n",
    "training_accuracy.append(r_squared_value)"
   ]
  },
  {
   "cell_type": "code",
   "execution_count": 579,
   "id": "f5ae158f",
   "metadata": {},
   "outputs": [
    {
     "name": "stdout",
     "output_type": "stream",
     "text": [
      "Mean Sqaured Error : 26507134.080949083\n",
      "Root Mean Sqaured Error : 5148.507947060884\n",
      "Mean Absolute Error : 2133.8253495895524\n",
      "R Squared Value : 0.8110017668223419\n"
     ]
    }
   ],
   "source": [
    "# Evaluation on Testing Data\n",
    "y_pred_test = dt_reg_HPT_PP_model.predict(x_test)\n",
    "\n",
    "mse = mean_squared_error(y_test, y_pred_test)\n",
    "print(\"Mean Sqaured Error :\",mse)\n",
    "\n",
    "rmse = np.sqrt(mse)\n",
    "print(\"Root Mean Sqaured Error :\",rmse)\n",
    "\n",
    "mae = mean_absolute_error(y_test, y_pred_test)\n",
    "print(\"Mean Absolute Error :\",mae)\n",
    "\n",
    "r_squared_value = r2_score(y_test, y_pred_test)\n",
    "print(\"R Squared Value :\",r_squared_value)\n",
    "\n",
    "testing_accuracy.append(r_squared_value)"
   ]
  },
  {
   "cell_type": "markdown",
   "id": "3470fd78",
   "metadata": {},
   "source": [
    "###### 2. Post Pruning / Cost Complexity Pruning"
   ]
  },
  {
   "cell_type": "code",
   "execution_count": 580,
   "id": "6b963eec",
   "metadata": {},
   "outputs": [
    {
     "data": {
      "text/plain": [
       "array([0.00000000e+00, 1.44463276e-06, 8.14822476e-06, 8.14822694e-06,\n",
       "       8.14822824e-06, 8.14823347e-06, 8.14823347e-06, 1.09244730e-05,\n",
       "       1.09244882e-05, 1.12338810e-05, 3.25928782e-05, 3.25929025e-05,\n",
       "       6.58178010e-05, 8.12565431e-05, 9.83204159e-05, 1.30371596e-04,\n",
       "       1.30371607e-04, 1.30371608e-04, 1.30371610e-04, 1.44456075e-04,\n",
       "       1.73828841e-04, 2.03705572e-04, 2.03705642e-04, 3.99263048e-04,\n",
       "       4.40621122e-04, 4.42396745e-04, 4.94400916e-04, 5.35300026e-04,\n",
       "       5.35300042e-04, 5.77824299e-04, 5.77824305e-04, 6.60006261e-04,\n",
       "       6.60006262e-04, 6.99167401e-04, 8.14822529e-04, 8.84883705e-04,\n",
       "       8.84883738e-04, 9.09161136e-04, 9.85935247e-04, 1.09244897e-03,\n",
       "       1.09244906e-03, 1.09244907e-03, 1.44829917e-03, 1.52581727e-03,\n",
       "       1.52581730e-03, 1.57312665e-03, 1.59202632e-03, 1.59705214e-03,\n",
       "       1.59705217e-03, 1.59705218e-03, 1.59705219e-03, 1.69754697e-03,\n",
       "       1.83335080e-03, 1.84623892e-03, 2.05280669e-03, 2.08594571e-03,\n",
       "       2.14120017e-03, 2.14544357e-03, 2.27593555e-03, 2.35483716e-03,\n",
       "       2.72624166e-03, 2.95780584e-03, 3.05669054e-03, 3.52003340e-03,\n",
       "       3.53953497e-03, 4.14930175e-03, 4.31651612e-03, 4.36979625e-03,\n",
       "       4.36979635e-03, 4.69337787e-03, 4.71938010e-03, 4.77607889e-03,\n",
       "       5.09264092e-03, 5.28745347e-03, 5.50820042e-03, 6.24492641e-03,\n",
       "       6.93389158e-03, 7.33340294e-03, 7.34426722e-03, 7.83044468e-03,\n",
       "       8.18317180e-03, 8.32656853e-03, 8.34378288e-03, 8.54966288e-03,\n",
       "       8.67639299e-03, 8.67846956e-03, 9.71322647e-03, 9.90785120e-03,\n",
       "       1.02640856e-02, 1.10599182e-02, 1.12503294e-02, 1.16785049e-02,\n",
       "       1.23600229e-02, 1.23600229e-02, 1.25612682e-02, 1.26287112e-02,\n",
       "       1.33488246e-02, 1.33825011e-02, 1.37323556e-02, 1.51769164e-02,\n",
       "       1.59262822e-02, 1.62310845e-02, 1.72416451e-02, 1.74791851e-02,\n",
       "       1.81330848e-02, 1.82827220e-02, 1.84399534e-02, 2.00650410e-02,\n",
       "       2.11633341e-02, 2.22154321e-02, 2.25178431e-02, 2.37602255e-02,\n",
       "       2.37602255e-02, 2.55528352e-02, 2.62297020e-02, 2.66202526e-02,\n",
       "       2.72179622e-02, 2.73112266e-02, 2.93336117e-02, 2.96431991e-02,\n",
       "       3.14953066e-02, 3.22862938e-02, 3.27364780e-02, 3.40064347e-02,\n",
       "       3.47055719e-02, 3.50313200e-02, 3.78186305e-02, 3.84283254e-02,\n",
       "       4.10752045e-02, 4.38075761e-02, 4.53845777e-02, 4.83108289e-02,\n",
       "       4.98720288e-02, 5.16011545e-02, 5.21486430e-02, 5.25782602e-02,\n",
       "       5.49294224e-02, 5.77824299e-02, 5.84817177e-02, 5.88709290e-02,\n",
       "       6.16372515e-02, 6.32509049e-02, 6.39486315e-02, 6.71098400e-02,\n",
       "       6.89665803e-02, 7.00107720e-02, 7.24822801e-02, 7.31308878e-02,\n",
       "       7.36152220e-02, 7.64172636e-02, 7.66666534e-02, 7.70432399e-02,\n",
       "       7.71672523e-02, 7.94562542e-02, 8.41331440e-02, 8.44245542e-02,\n",
       "       8.98341858e-02, 9.12058217e-02, 9.29576724e-02, 9.48890196e-02,\n",
       "       9.76523066e-02, 9.79417002e-02, 9.85935281e-02, 9.85935282e-02,\n",
       "       1.02722010e-01, 1.04846941e-01, 1.05674133e-01, 1.08054161e-01,\n",
       "       1.09244907e-01, 1.11222903e-01, 1.11320249e-01, 1.12647660e-01,\n",
       "       1.21196299e-01, 1.31830614e-01, 1.33720190e-01, 1.44831564e-01,\n",
       "       1.52112608e-01, 1.68961603e-01, 1.71330803e-01, 2.11980743e-01,\n",
       "       2.24085695e-01, 2.24532501e-01, 2.57129277e-01, 3.62643468e-01,\n",
       "       4.19102668e-01, 4.92330379e-01, 4.95076374e-01, 5.08419077e-01,\n",
       "       5.19038436e-01, 6.78892981e-01, 8.48733487e-01, 1.04913862e+00,\n",
       "       1.13415931e+00, 1.16171936e+00, 1.42705852e+00, 1.61447236e+00,\n",
       "       1.68541271e+00, 2.06024113e+00, 2.29076320e+00, 2.31675880e+00,\n",
       "       2.67647271e+00, 2.84643609e+00, 2.96560780e+00, 3.12236105e+00,\n",
       "       3.16255107e+00, 3.43642432e+00, 3.48318724e+00, 3.60064946e+00,\n",
       "       3.64234207e+00, 3.66089354e+00, 4.00814783e+00, 4.15652816e+00,\n",
       "       4.15969751e+00, 4.35420668e+00, 4.43561457e+00, 4.45339703e+00,\n",
       "       4.59914380e+00, 4.64255409e+00, 4.67289720e+00, 4.70197031e+00,\n",
       "       4.80474423e+00, 4.82809000e+00, 4.87437151e+00, 5.15420167e+00,\n",
       "       5.38180714e+00, 5.39437229e+00, 5.40163399e+00, 5.62740054e+00,\n",
       "       5.79901550e+00, 5.87091803e+00, 5.89419674e+00, 6.17097309e+00,\n",
       "       6.31462939e+00, 6.32080718e+00, 6.56202473e+00, 7.00705057e+00,\n",
       "       7.15476941e+00, 7.19919200e+00, 7.26564458e+00, 7.41636649e+00,\n",
       "       7.45870624e+00, 7.94853832e+00, 8.74177599e+00, 9.09742120e+00,\n",
       "       9.44243996e+00, 9.46717308e+00, 9.53330182e+00, 9.59483376e+00,\n",
       "       9.64677493e+00, 9.93312917e+00, 1.03787921e+01, 1.05245009e+01,\n",
       "       1.06393244e+01, 1.08484830e+01, 1.08585957e+01, 1.09037518e+01,\n",
       "       1.09457498e+01, 1.14779092e+01, 1.16084110e+01, 1.16460551e+01,\n",
       "       1.17119514e+01, 1.17267924e+01, 1.18236582e+01, 1.18657827e+01,\n",
       "       1.21126156e+01, 1.23726926e+01, 1.24141257e+01, 1.26674939e+01,\n",
       "       1.29894824e+01, 1.30031123e+01, 1.32306376e+01, 1.37599625e+01,\n",
       "       1.40020752e+01, 1.40640723e+01, 1.42955593e+01, 1.45286677e+01,\n",
       "       1.45942148e+01, 1.47957193e+01, 1.48388230e+01, 1.48571058e+01,\n",
       "       1.52811256e+01, 1.53481405e+01, 1.53780070e+01, 1.55034587e+01,\n",
       "       1.56847280e+01, 1.57481101e+01, 1.57881916e+01, 1.60843066e+01,\n",
       "       1.62490534e+01, 1.62627001e+01, 1.64909338e+01, 1.70792315e+01,\n",
       "       1.74132905e+01, 1.75781141e+01, 1.77464179e+01, 1.80796170e+01,\n",
       "       1.81422831e+01, 1.81732744e+01, 1.81739981e+01, 1.84873886e+01,\n",
       "       1.89427327e+01, 1.93273759e+01, 1.94632431e+01, 1.94645688e+01,\n",
       "       1.95123395e+01, 1.95438733e+01, 1.97112535e+01, 1.97166148e+01,\n",
       "       1.99062191e+01, 2.04306334e+01, 2.04802018e+01, 2.04821720e+01,\n",
       "       2.05603615e+01, 2.06114609e+01, 2.10510145e+01, 2.11347968e+01,\n",
       "       2.11897400e+01, 2.16823404e+01, 2.19892107e+01, 2.20842641e+01,\n",
       "       2.23319513e+01, 2.26773114e+01, 2.28461391e+01, 2.32297648e+01,\n",
       "       2.33123859e+01, 2.34613855e+01, 2.35261381e+01, 2.37030579e+01,\n",
       "       2.38390586e+01, 2.39522736e+01, 2.44246200e+01, 2.44961289e+01,\n",
       "       2.48191205e+01, 2.48627767e+01, 2.48973670e+01, 2.57919904e+01,\n",
       "       2.59407381e+01, 2.62965908e+01, 2.63745440e+01, 2.67899794e+01,\n",
       "       2.73448734e+01, 2.75229597e+01, 2.79434803e+01, 2.80789901e+01,\n",
       "       2.82067017e+01, 2.82719757e+01, 2.85104513e+01, 2.91868255e+01,\n",
       "       2.92797653e+01, 2.94402357e+01, 3.04975411e+01, 3.07696614e+01,\n",
       "       3.08026096e+01, 3.08906492e+01, 3.19293574e+01, 3.19768105e+01,\n",
       "       3.21914549e+01, 3.29329100e+01, 3.30510357e+01, 3.42712698e+01,\n",
       "       3.47492180e+01, 3.48272223e+01, 3.54518594e+01, 3.60923046e+01,\n",
       "       3.62416537e+01, 3.67188945e+01, 3.74868378e+01, 3.75817444e+01,\n",
       "       3.76490979e+01, 3.77778015e+01, 3.89683382e+01, 3.95427680e+01,\n",
       "       3.97355765e+01, 4.03715031e+01, 4.10753506e+01, 4.12682895e+01,\n",
       "       4.17814454e+01, 4.21065432e+01, 4.25035141e+01, 4.25814296e+01,\n",
       "       4.28735073e+01, 4.30479026e+01, 4.32339705e+01, 4.33085781e+01,\n",
       "       4.36507751e+01, 4.45024784e+01, 4.49771994e+01, 4.55041843e+01,\n",
       "       4.56941312e+01, 4.60362223e+01, 4.67091743e+01, 4.73508397e+01,\n",
       "       4.81365217e+01, 4.85281546e+01, 4.85677063e+01, 4.86982772e+01,\n",
       "       4.96484734e+01, 4.97949718e+01, 5.00854067e+01, 5.03533307e+01,\n",
       "       5.08453265e+01, 5.18888416e+01, 5.37004189e+01, 5.37058425e+01,\n",
       "       5.40698456e+01, 5.49559748e+01, 5.53328880e+01, 5.61395082e+01,\n",
       "       5.61664369e+01, 5.75677552e+01, 5.84030131e+01, 5.85163235e+01,\n",
       "       5.85574868e+01, 5.86871073e+01, 5.89773934e+01, 5.90194512e+01,\n",
       "       5.91461298e+01, 5.92218368e+01, 5.94088276e+01, 6.03397602e+01,\n",
       "       6.14274904e+01, 6.16673911e+01, 6.17795956e+01, 6.21961715e+01,\n",
       "       6.29290788e+01, 6.30358161e+01, 6.35218675e+01, 6.36816595e+01,\n",
       "       6.38758119e+01, 6.58191016e+01, 6.72095878e+01, 6.75025632e+01,\n",
       "       6.83409430e+01, 6.89167676e+01, 6.92550776e+01, 6.94422587e+01,\n",
       "       6.97825943e+01, 6.98492624e+01, 6.98861590e+01, 7.01653455e+01,\n",
       "       7.04405501e+01, 7.09079866e+01, 7.09375490e+01, 7.10931370e+01,\n",
       "       7.23463000e+01, 7.24625057e+01, 7.27627100e+01, 7.32828821e+01,\n",
       "       7.42430781e+01, 7.42485259e+01, 7.43203963e+01, 7.44972892e+01,\n",
       "       7.47677570e+01, 7.49983599e+01, 7.59741660e+01, 7.61482302e+01,\n",
       "       7.64701634e+01, 7.71513961e+01, 7.77254611e+01, 7.78712269e+01,\n",
       "       7.93789637e+01, 7.93919929e+01, 7.96202620e+01, 8.03552033e+01,\n",
       "       8.13942103e+01, 8.19957372e+01, 8.20541859e+01, 8.32016234e+01,\n",
       "       8.59871568e+01, 8.73120645e+01, 8.75461318e+01, 8.79343381e+01,\n",
       "       8.81928596e+01, 8.86162099e+01, 9.00325168e+01, 9.16634517e+01,\n",
       "       9.16705295e+01, 9.30043866e+01, 9.30648655e+01, 9.33936259e+01,\n",
       "       9.34792543e+01, 9.35055432e+01, 9.42919918e+01, 9.46706410e+01,\n",
       "       9.62775622e+01, 9.78022403e+01, 9.83981101e+01, 9.88461814e+01,\n",
       "       9.98578310e+01, 1.00366357e+02, 1.00667651e+02, 1.01230456e+02,\n",
       "       1.01421564e+02, 1.01733768e+02, 1.04292013e+02, 1.04824179e+02,\n",
       "       1.04850354e+02, 1.05972035e+02, 1.08654669e+02, 1.08693762e+02,\n",
       "       1.09122670e+02, 1.09296624e+02, 1.09904173e+02, 1.10592590e+02,\n",
       "       1.10775302e+02, 1.10895509e+02, 1.10977794e+02, 1.11642369e+02,\n",
       "       1.12158439e+02, 1.12464135e+02, 1.12648328e+02, 1.14054800e+02,\n",
       "       1.14358627e+02, 1.14448044e+02, 1.15035804e+02, 1.16624404e+02,\n",
       "       1.17687514e+02, 1.18158612e+02, 1.18862779e+02, 1.19831235e+02,\n",
       "       1.22190352e+02, 1.26535894e+02, 1.29001924e+02, 1.29620025e+02,\n",
       "       1.29751978e+02, 1.30242472e+02, 1.30716555e+02, 1.30825167e+02,\n",
       "       1.31231345e+02, 1.33251423e+02, 1.36357150e+02, 1.37183014e+02,\n",
       "       1.37202575e+02, 1.39865392e+02, 1.40004214e+02, 1.40778531e+02,\n",
       "       1.41627084e+02, 1.43603424e+02, 1.45097329e+02, 1.45822449e+02,\n",
       "       1.46353988e+02, 1.48103623e+02, 1.48396537e+02, 1.48896979e+02,\n",
       "       1.49146018e+02, 1.50577145e+02, 1.51735087e+02, 1.53881882e+02,\n",
       "       1.54119315e+02, 1.56052925e+02, 1.56835948e+02, 1.58073961e+02,\n",
       "       1.58934209e+02, 1.59051306e+02, 1.61676775e+02, 1.63660836e+02,\n",
       "       1.64008044e+02, 1.64445248e+02, 1.66012768e+02, 1.66046594e+02,\n",
       "       1.66638735e+02, 1.67095475e+02, 1.67896331e+02, 1.69079168e+02,\n",
       "       1.71514656e+02, 1.72323570e+02, 1.74126474e+02, 1.77076044e+02,\n",
       "       1.80073658e+02, 1.80170860e+02, 1.92682067e+02, 1.96197995e+02,\n",
       "       2.00334604e+02, 2.04930845e+02, 2.07542558e+02, 2.08436981e+02,\n",
       "       2.08722366e+02, 2.09607122e+02, 2.13097561e+02, 2.13436904e+02,\n",
       "       2.13826726e+02, 2.14520443e+02, 2.15490590e+02, 2.15647677e+02,\n",
       "       2.16311281e+02, 2.19190447e+02, 2.19269091e+02, 2.30202327e+02,\n",
       "       2.34597781e+02, 2.37901573e+02, 2.39630152e+02, 2.40455094e+02,\n",
       "       2.43996778e+02, 2.45759095e+02, 2.50325941e+02, 2.54566287e+02,\n",
       "       2.56128138e+02, 2.57652627e+02, 2.61800413e+02, 2.65415364e+02,\n",
       "       2.67960414e+02, 2.72893344e+02, 2.75931683e+02, 2.76514251e+02,\n",
       "       2.79824410e+02, 2.84679715e+02, 2.87991505e+02, 2.95789864e+02,\n",
       "       2.97984565e+02, 3.00096317e+02, 3.01786274e+02, 3.02071496e+02,\n",
       "       3.02324307e+02, 3.04519144e+02, 3.04564911e+02, 3.05541737e+02,\n",
       "       3.08507845e+02, 3.09138562e+02, 3.11557609e+02, 3.11751671e+02,\n",
       "       3.15951629e+02, 3.18908929e+02, 3.26101573e+02, 3.27776808e+02,\n",
       "       3.29669235e+02, 3.30226266e+02, 3.32423346e+02, 3.40619447e+02,\n",
       "       3.51200483e+02, 3.52887951e+02, 3.58525415e+02, 3.59742535e+02,\n",
       "       3.60558056e+02, 3.75636416e+02, 3.77466265e+02, 3.80650241e+02,\n",
       "       3.81326635e+02, 3.94571066e+02, 3.97341884e+02, 3.97408817e+02,\n",
       "       4.01512312e+02, 4.05550962e+02, 4.11601085e+02, 4.18878339e+02,\n",
       "       4.25365701e+02, 4.32399676e+02, 4.35479308e+02, 4.40955264e+02,\n",
       "       4.43330779e+02, 4.44981718e+02, 4.50348751e+02, 4.51299169e+02,\n",
       "       4.56721541e+02, 4.56736129e+02, 4.60497037e+02, 4.84796184e+02,\n",
       "       4.94141978e+02, 5.00261990e+02, 5.00414508e+02, 5.08772235e+02,\n",
       "       5.12052395e+02, 5.24265456e+02, 5.28209498e+02, 5.37081353e+02,\n",
       "       5.43628890e+02, 5.45092133e+02, 5.48319058e+02, 5.51044296e+02,\n",
       "       5.63515873e+02, 5.69764672e+02, 5.74622116e+02, 5.75851791e+02,\n",
       "       5.78333645e+02, 5.80069631e+02, 5.82028730e+02, 5.87813789e+02,\n",
       "       5.89142626e+02, 6.02179523e+02, 6.07765978e+02, 6.12542312e+02,\n",
       "       6.17098872e+02, 6.43885300e+02, 6.57833086e+02, 6.62203368e+02,\n",
       "       6.85921297e+02, 6.86080567e+02, 6.90409078e+02, 6.94596585e+02,\n",
       "       7.02902943e+02, 7.06560453e+02, 7.18853007e+02, 7.21586493e+02,\n",
       "       7.33333956e+02, 7.36366915e+02, 7.38034622e+02, 7.46356007e+02,\n",
       "       7.70690976e+02, 7.75196371e+02, 7.77426346e+02, 7.98947045e+02,\n",
       "       8.17196476e+02, 8.23524861e+02, 8.26480425e+02, 8.33751978e+02,\n",
       "       8.33996004e+02, 8.34357819e+02, 8.43006597e+02, 8.56822040e+02,\n",
       "       8.66636421e+02, 8.67417552e+02, 8.91783180e+02, 8.93689221e+02,\n",
       "       8.99919843e+02, 9.16177857e+02, 9.46401201e+02, 9.52347762e+02,\n",
       "       9.67037018e+02, 9.87124221e+02, 9.91715367e+02, 9.94315724e+02,\n",
       "       1.00081574e+03, 1.00293986e+03, 1.03168374e+03, 1.06689001e+03,\n",
       "       1.07195602e+03, 1.07957668e+03, 1.10954082e+03, 1.11037347e+03,\n",
       "       1.12283090e+03, 1.12295792e+03, 1.14232154e+03, 1.18127002e+03,\n",
       "       1.21460303e+03, 1.21748121e+03, 1.23013448e+03, 1.25194262e+03,\n",
       "       1.25994497e+03, 1.28620499e+03, 1.29306657e+03, 1.30238979e+03,\n",
       "       1.31238553e+03, 1.32640961e+03, 1.32981662e+03, 1.35442729e+03,\n",
       "       1.38532201e+03, 1.42208838e+03, 1.44430293e+03, 1.47337510e+03,\n",
       "       1.53436366e+03, 1.53931142e+03, 1.54787037e+03, 1.56905541e+03,\n",
       "       1.57312859e+03, 1.58069826e+03, 1.58985166e+03, 1.59177635e+03,\n",
       "       1.59420354e+03, 1.62478040e+03, 1.62517480e+03, 1.73363093e+03,\n",
       "       1.74375048e+03, 1.79380384e+03, 1.80560625e+03, 1.83160651e+03,\n",
       "       1.84013603e+03, 1.84288330e+03, 1.84303187e+03, 1.84881066e+03,\n",
       "       1.91070992e+03, 1.91740351e+03, 1.94855574e+03, 2.11152998e+03,\n",
       "       2.11259673e+03, 2.17051710e+03, 2.19024283e+03, 2.26852088e+03,\n",
       "       2.27017271e+03, 2.27850975e+03, 2.32122056e+03, 2.42660705e+03,\n",
       "       2.48609304e+03, 2.52095174e+03, 2.53848108e+03, 2.59464681e+03,\n",
       "       2.64283992e+03, 2.68187764e+03, 2.72200206e+03, 2.80987035e+03,\n",
       "       2.87922727e+03, 2.96754754e+03, 3.08204505e+03, 3.20892600e+03,\n",
       "       3.22201198e+03, 3.47893649e+03, 3.52143990e+03, 3.84432826e+03,\n",
       "       4.07931986e+03, 4.27890342e+03, 4.32534563e+03, 4.39139611e+03,\n",
       "       4.44438911e+03, 4.48210603e+03, 4.62352565e+03, 4.74926963e+03,\n",
       "       4.97258250e+03, 5.16471045e+03, 5.19939369e+03, 5.35661881e+03,\n",
       "       5.42856613e+03, 5.61184096e+03, 5.62123401e+03, 5.66360519e+03,\n",
       "       5.93186595e+03, 6.52627055e+03, 6.54700314e+03, 6.59502782e+03,\n",
       "       6.66518797e+03, 6.79612764e+03, 7.01607718e+03, 7.12488532e+03,\n",
       "       7.17460167e+03, 7.26580288e+03, 7.51238510e+03, 7.63770446e+03,\n",
       "       7.65600519e+03, 7.74226145e+03, 8.06906828e+03, 8.39090155e+03,\n",
       "       9.05209457e+03, 9.91925852e+03, 1.01596720e+04, 1.01823162e+04,\n",
       "       1.02649114e+04, 1.03878599e+04, 1.13369666e+04, 1.15978283e+04,\n",
       "       1.17172613e+04, 1.18805806e+04, 1.23467727e+04, 1.25663755e+04,\n",
       "       1.35829731e+04, 1.38515545e+04, 1.67591582e+04, 1.75060413e+04,\n",
       "       1.89506421e+04, 1.89620319e+04, 1.90318169e+04, 1.94936627e+04,\n",
       "       1.99979840e+04, 2.01454610e+04, 2.04113299e+04, 2.32815250e+04,\n",
       "       2.46256607e+04, 2.56167630e+04, 2.58398975e+04, 2.65889852e+04,\n",
       "       2.90693070e+04, 3.04765209e+04, 3.34235308e+04, 3.47611765e+04,\n",
       "       3.58789604e+04, 3.68759397e+04, 3.79140656e+04, 3.81298541e+04,\n",
       "       4.07799932e+04, 4.11368682e+04, 4.11975795e+04, 4.35766698e+04,\n",
       "       4.41992012e+04, 4.42978333e+04, 5.23326965e+04, 5.63817606e+04,\n",
       "       5.64273556e+04, 5.84374078e+04, 5.94429351e+04, 6.41791628e+04,\n",
       "       6.82307020e+04, 6.83140207e+04, 7.36956654e+04, 7.67300544e+04,\n",
       "       7.91786252e+04, 7.95928561e+04, 8.14262190e+04, 8.51378597e+04,\n",
       "       8.77336562e+04, 9.01052318e+04, 9.28593868e+04, 9.46245655e+04,\n",
       "       9.48050417e+04, 9.53104753e+04, 9.65413867e+04, 9.74095348e+04,\n",
       "       1.01402816e+05, 1.01489414e+05, 1.02423145e+05, 1.03103170e+05,\n",
       "       1.04229379e+05, 1.05001942e+05, 1.13870876e+05, 1.23879468e+05,\n",
       "       1.25087769e+05, 1.25966337e+05, 1.36144014e+05, 1.38922364e+05,\n",
       "       1.46732113e+05, 1.51433347e+05, 1.63326037e+05, 1.70842840e+05,\n",
       "       1.73150216e+05, 1.78124902e+05, 1.83325255e+05, 1.84036674e+05,\n",
       "       2.08897474e+05, 2.13290265e+05, 2.20138848e+05, 2.20257321e+05,\n",
       "       2.75073324e+05, 2.92296692e+05, 3.09604469e+05, 3.14983514e+05,\n",
       "       3.56751418e+05, 3.73446377e+05, 9.25773717e+05, 9.37791830e+05,\n",
       "       1.46387529e+06, 1.54955008e+06, 9.59127639e+06, 2.09958366e+07,\n",
       "       9.22359546e+07])"
      ]
     },
     "execution_count": 580,
     "metadata": {},
     "output_type": "execute_result"
    }
   ],
   "source": [
    "# Finding the ccp_alpha value\n",
    "dt_reg = DecisionTreeRegressor(random_state = 10)\n",
    "\n",
    "result = dt_reg.cost_complexity_pruning_path(x_train, y_train)\n",
    "ccp_alpha_list = result['ccp_alphas']\n",
    "ccp_alpha_list"
   ]
  },
  {
   "cell_type": "code",
   "execution_count": 581,
   "id": "c2cb97d5",
   "metadata": {},
   "outputs": [],
   "source": [
    "# using HyperParameter Tuning finding the best value of ccp_alpha\n",
    "\n",
    "hyperparameter = {\"ccp_alpha\": ccp_alpha_list}  \n",
    "\n",
    "gscv_dt_reg = GridSearchCV(dt_reg, hyperparameter, cv=5)\n",
    "gscv_dt_reg.fit(x_train, y_train)\n",
    "model_details.append(\"HyperParameter Post Pruning\")"
   ]
  },
  {
   "cell_type": "code",
   "execution_count": 582,
   "id": "4d743c35",
   "metadata": {},
   "outputs": [
    {
     "data": {
      "text/plain": [
       "DecisionTreeRegressor(ccp_alpha=314983.51376405486, random_state=10)"
      ]
     },
     "execution_count": 582,
     "metadata": {},
     "output_type": "execute_result"
    }
   ],
   "source": [
    "gscv_dt_reg.best_estimator_"
   ]
  },
  {
   "cell_type": "code",
   "execution_count": 583,
   "id": "350db211",
   "metadata": {},
   "outputs": [
    {
     "data": {
      "text/plain": [
       "DecisionTreeRegressor(ccp_alpha=314983.51376405486, random_state=10)"
      ]
     },
     "execution_count": 583,
     "metadata": {},
     "output_type": "execute_result"
    }
   ],
   "source": [
    "dt_reg_HPT_CCP_model = gscv_dt_reg.best_estimator_\n",
    "model_instance.append(\"dt_reg_HPT_CCP_model\")\n",
    "dt_reg_HPT_CCP_model.fit(x_train, y_train)"
   ]
  },
  {
   "cell_type": "code",
   "execution_count": 584,
   "id": "10178dc0",
   "metadata": {},
   "outputs": [
    {
     "name": "stdout",
     "output_type": "stream",
     "text": [
      "Mean Sqaured Error : 19290148.725632466\n",
      "Root Mean Sqaured Error : 4392.055182443917\n",
      "Mean Absolute Error : 2514.5641407336134\n",
      "R Squared Value : 0.8697437567767106\n"
     ]
    }
   ],
   "source": [
    "# Evaluation on Training Data\n",
    "y_pred_train = dt_reg_HPT_CCP_model.predict(x_train)\n",
    "\n",
    "mse = mean_squared_error(y_train, y_pred_train)\n",
    "print(\"Mean Sqaured Error :\",mse)\n",
    "\n",
    "rmse = np.sqrt(mse)\n",
    "print(\"Root Mean Sqaured Error :\",rmse)\n",
    "\n",
    "mae = mean_absolute_error(y_train, y_pred_train)\n",
    "print(\"Mean Absolute Error :\",mae)\n",
    "\n",
    "r_squared_value = r2_score(y_train, y_pred_train)\n",
    "print(\"R Squared Value :\",r_squared_value)\n",
    "\n",
    "training_accuracy.append(r_squared_value)"
   ]
  },
  {
   "cell_type": "code",
   "execution_count": 585,
   "id": "32e2bb2a",
   "metadata": {},
   "outputs": [
    {
     "name": "stdout",
     "output_type": "stream",
     "text": [
      "Mean Sqaured Error : 24752384.839195866\n",
      "Root Mean Sqaured Error : 4975.176865117045\n",
      "Mean Absolute Error : 2831.1429428390747\n",
      "R Squared Value : 0.8235132856213337\n"
     ]
    }
   ],
   "source": [
    "# Evaluation on Testing Data\n",
    "y_pred_test = dt_reg_HPT_CCP_model.predict(x_test)\n",
    "\n",
    "mse = mean_squared_error(y_test, y_pred_test)\n",
    "print(\"Mean Sqaured Error :\",mse)\n",
    "\n",
    "rmse = np.sqrt(mse)\n",
    "print(\"Root Mean Sqaured Error :\",rmse)\n",
    "\n",
    "mae = mean_absolute_error(y_test, y_pred_test)\n",
    "print(\"Mean Absolute Error :\",mae)\n",
    "\n",
    "r_squared_value = r2_score(y_test, y_pred_test)\n",
    "print(\"R Squared Value :\",r_squared_value)\n",
    "\n",
    "testing_accuracy.append(r_squared_value)"
   ]
  },
  {
   "cell_type": "code",
   "execution_count": 586,
   "id": "84b64c36",
   "metadata": {},
   "outputs": [
    {
     "data": {
      "text/plain": [
       "array([0.00000000e+00, 1.44463276e-06, 8.14822476e-06, 8.14822694e-06,\n",
       "       8.14822824e-06, 8.14823347e-06, 8.14823347e-06, 1.09244730e-05,\n",
       "       1.09244882e-05, 1.12338810e-05, 3.25928782e-05, 3.25929025e-05,\n",
       "       6.58178010e-05, 8.12565431e-05, 9.83204159e-05, 1.30371596e-04,\n",
       "       1.30371607e-04, 1.30371608e-04, 1.30371610e-04, 1.44456075e-04,\n",
       "       1.73828841e-04, 2.03705572e-04, 2.03705642e-04, 3.99263048e-04,\n",
       "       4.40621122e-04, 4.42396745e-04, 4.94400916e-04, 5.35300026e-04,\n",
       "       5.35300042e-04, 5.77824299e-04, 5.77824305e-04, 6.60006261e-04,\n",
       "       6.60006262e-04, 6.99167401e-04, 8.14822529e-04, 8.84883705e-04,\n",
       "       8.84883738e-04, 9.09161136e-04, 9.85935247e-04, 1.09244897e-03,\n",
       "       1.09244906e-03, 1.09244907e-03, 1.44829917e-03, 1.52581727e-03,\n",
       "       1.52581730e-03, 1.57312665e-03, 1.59202632e-03, 1.59705214e-03,\n",
       "       1.59705217e-03, 1.59705218e-03, 1.59705219e-03, 1.69754697e-03,\n",
       "       1.83335080e-03, 1.84623892e-03, 2.05280669e-03, 2.08594571e-03,\n",
       "       2.14120017e-03, 2.14544357e-03, 2.27593555e-03, 2.35483716e-03,\n",
       "       2.72624166e-03, 2.95780584e-03, 3.05669054e-03, 3.52003340e-03,\n",
       "       3.53953497e-03, 4.14930175e-03, 4.31651612e-03, 4.36979625e-03,\n",
       "       4.36979635e-03, 4.69337787e-03, 4.71938010e-03, 4.77607889e-03,\n",
       "       5.09264092e-03, 5.28745347e-03, 5.50820042e-03, 6.24492641e-03,\n",
       "       6.93389158e-03, 7.33340294e-03, 7.34426722e-03, 7.83044468e-03,\n",
       "       8.18317180e-03, 8.32656853e-03, 8.34378288e-03, 8.54966288e-03,\n",
       "       8.67639299e-03, 8.67846956e-03, 9.71322647e-03, 9.90785120e-03,\n",
       "       1.02640856e-02, 1.10599182e-02, 1.12503294e-02, 1.16785049e-02,\n",
       "       1.23600229e-02, 1.23600229e-02, 1.25612682e-02, 1.26287112e-02,\n",
       "       1.33488246e-02, 1.33825011e-02, 1.37323556e-02, 1.51769164e-02,\n",
       "       1.59262822e-02, 1.62310845e-02, 1.72416451e-02, 1.74791851e-02,\n",
       "       1.81330848e-02, 1.82827220e-02, 1.84399534e-02, 2.00650410e-02,\n",
       "       2.11633341e-02, 2.22154321e-02, 2.25178431e-02, 2.37602255e-02,\n",
       "       2.37602255e-02, 2.55528352e-02, 2.62297020e-02, 2.66202526e-02,\n",
       "       2.72179622e-02, 2.73112266e-02, 2.93336117e-02, 2.96431991e-02,\n",
       "       3.14953066e-02, 3.22862938e-02, 3.27364780e-02, 3.40064347e-02,\n",
       "       3.47055719e-02, 3.50313200e-02, 3.78186305e-02, 3.84283254e-02,\n",
       "       4.10752045e-02, 4.38075761e-02, 4.53845777e-02, 4.83108289e-02,\n",
       "       4.98720288e-02, 5.16011545e-02, 5.21486430e-02, 5.25782602e-02,\n",
       "       5.49294224e-02, 5.77824299e-02, 5.84817177e-02, 5.88709290e-02,\n",
       "       6.16372515e-02, 6.32509049e-02, 6.39486315e-02, 6.71098400e-02,\n",
       "       6.89665803e-02, 7.00107720e-02, 7.24822801e-02, 7.31308878e-02,\n",
       "       7.36152220e-02, 7.64172636e-02, 7.66666534e-02, 7.70432399e-02,\n",
       "       7.71672523e-02, 7.94562542e-02, 8.41331440e-02, 8.44245542e-02,\n",
       "       8.98341858e-02, 9.12058217e-02, 9.29576724e-02, 9.48890196e-02,\n",
       "       9.76523066e-02, 9.79417002e-02, 9.85935281e-02, 9.85935282e-02,\n",
       "       1.02722010e-01, 1.04846941e-01, 1.05674133e-01, 1.08054161e-01,\n",
       "       1.09244907e-01, 1.11222903e-01, 1.11320249e-01, 1.12647660e-01,\n",
       "       1.21196299e-01, 1.31830614e-01, 1.33720190e-01, 1.44831564e-01,\n",
       "       1.52112608e-01, 1.68961603e-01, 1.71330803e-01, 2.11980743e-01,\n",
       "       2.24085695e-01, 2.24532501e-01, 2.57129277e-01, 3.62643468e-01,\n",
       "       4.19102668e-01, 4.92330379e-01, 4.95076374e-01, 5.08419077e-01,\n",
       "       5.19038436e-01, 6.78892981e-01, 8.48733487e-01, 1.04913862e+00,\n",
       "       1.13415931e+00, 1.16171936e+00, 1.42705852e+00, 1.61447236e+00,\n",
       "       1.68541271e+00, 2.06024113e+00, 2.29076320e+00, 2.31675880e+00,\n",
       "       2.67647271e+00, 2.84643609e+00, 2.96560780e+00, 3.12236105e+00,\n",
       "       3.16255107e+00, 3.43642432e+00, 3.48318724e+00, 3.60064946e+00,\n",
       "       3.64234207e+00, 3.66089354e+00, 4.00814783e+00, 4.15652816e+00,\n",
       "       4.15969751e+00, 4.35420668e+00, 4.43561457e+00, 4.45339703e+00,\n",
       "       4.59914380e+00, 4.64255409e+00, 4.67289720e+00, 4.70197031e+00,\n",
       "       4.80474423e+00, 4.82809000e+00, 4.87437151e+00, 5.15420167e+00,\n",
       "       5.38180714e+00, 5.39437229e+00, 5.40163399e+00, 5.62740054e+00,\n",
       "       5.79901550e+00, 5.87091803e+00, 5.89419674e+00, 6.17097309e+00,\n",
       "       6.31462939e+00, 6.32080718e+00, 6.56202473e+00, 7.00705057e+00,\n",
       "       7.15476941e+00, 7.19919200e+00, 7.26564458e+00, 7.41636649e+00,\n",
       "       7.45870624e+00, 7.94853832e+00, 8.74177599e+00, 9.09742120e+00,\n",
       "       9.44243996e+00, 9.46717308e+00, 9.53330182e+00, 9.59483376e+00,\n",
       "       9.64677493e+00, 9.93312917e+00, 1.03787921e+01, 1.05245009e+01,\n",
       "       1.06393244e+01, 1.08484830e+01, 1.08585957e+01, 1.09037518e+01,\n",
       "       1.09457498e+01, 1.14779092e+01, 1.16084110e+01, 1.16460551e+01,\n",
       "       1.17119514e+01, 1.17267924e+01, 1.18236582e+01, 1.18657827e+01,\n",
       "       1.21126156e+01, 1.23726926e+01, 1.24141257e+01, 1.26674939e+01,\n",
       "       1.29894824e+01, 1.30031123e+01, 1.32306376e+01, 1.37599625e+01,\n",
       "       1.40020752e+01, 1.40640723e+01, 1.42955593e+01, 1.45286677e+01,\n",
       "       1.45942148e+01, 1.47957193e+01, 1.48388230e+01, 1.48571058e+01,\n",
       "       1.52811256e+01, 1.53481405e+01, 1.53780070e+01, 1.55034587e+01,\n",
       "       1.56847280e+01, 1.57481101e+01, 1.57881916e+01, 1.60843066e+01,\n",
       "       1.62490534e+01, 1.62627001e+01, 1.64909338e+01, 1.70792315e+01,\n",
       "       1.74132905e+01, 1.75781141e+01, 1.77464179e+01, 1.80796170e+01,\n",
       "       1.81422831e+01, 1.81732744e+01, 1.81739981e+01, 1.84873886e+01,\n",
       "       1.89427327e+01, 1.93273759e+01, 1.94632431e+01, 1.94645688e+01,\n",
       "       1.95123395e+01, 1.95438733e+01, 1.97112535e+01, 1.97166148e+01,\n",
       "       1.99062191e+01, 2.04306334e+01, 2.04802018e+01, 2.04821720e+01,\n",
       "       2.05603615e+01, 2.06114609e+01, 2.10510145e+01, 2.11347968e+01,\n",
       "       2.11897400e+01, 2.16823404e+01, 2.19892107e+01, 2.20842641e+01,\n",
       "       2.23319513e+01, 2.26773114e+01, 2.28461391e+01, 2.32297648e+01,\n",
       "       2.33123859e+01, 2.34613855e+01, 2.35261381e+01, 2.37030579e+01,\n",
       "       2.38390586e+01, 2.39522736e+01, 2.44246200e+01, 2.44961289e+01,\n",
       "       2.48191205e+01, 2.48627767e+01, 2.48973670e+01, 2.57919904e+01,\n",
       "       2.59407381e+01, 2.62965908e+01, 2.63745440e+01, 2.67899794e+01,\n",
       "       2.73448734e+01, 2.75229597e+01, 2.79434803e+01, 2.80789901e+01,\n",
       "       2.82067017e+01, 2.82719757e+01, 2.85104513e+01, 2.91868255e+01,\n",
       "       2.92797653e+01, 2.94402357e+01, 3.04975411e+01, 3.07696614e+01,\n",
       "       3.08026096e+01, 3.08906492e+01, 3.19293574e+01, 3.19768105e+01,\n",
       "       3.21914549e+01, 3.29329100e+01, 3.30510357e+01, 3.42712698e+01,\n",
       "       3.47492180e+01, 3.48272223e+01, 3.54518594e+01, 3.60923046e+01,\n",
       "       3.62416537e+01, 3.67188945e+01, 3.74868378e+01, 3.75817444e+01,\n",
       "       3.76490979e+01, 3.77778015e+01, 3.89683382e+01, 3.95427680e+01,\n",
       "       3.97355765e+01, 4.03715031e+01, 4.10753506e+01, 4.12682895e+01,\n",
       "       4.17814454e+01, 4.21065432e+01, 4.25035141e+01, 4.25814296e+01,\n",
       "       4.28735073e+01, 4.30479026e+01, 4.32339705e+01, 4.33085781e+01,\n",
       "       4.36507751e+01, 4.45024784e+01, 4.49771994e+01, 4.55041843e+01,\n",
       "       4.56941312e+01, 4.60362223e+01, 4.67091743e+01, 4.73508397e+01,\n",
       "       4.81365217e+01, 4.85281546e+01, 4.85677063e+01, 4.86982772e+01,\n",
       "       4.96484734e+01, 4.97949718e+01, 5.00854067e+01, 5.03533307e+01,\n",
       "       5.08453265e+01, 5.18888416e+01, 5.37004189e+01, 5.37058425e+01,\n",
       "       5.40698456e+01, 5.49559748e+01, 5.53328880e+01, 5.61395082e+01,\n",
       "       5.61664369e+01, 5.75677552e+01, 5.84030131e+01, 5.85163235e+01,\n",
       "       5.85574868e+01, 5.86871073e+01, 5.89773934e+01, 5.90194512e+01,\n",
       "       5.91461298e+01, 5.92218368e+01, 5.94088276e+01, 6.03397602e+01,\n",
       "       6.14274904e+01, 6.16673911e+01, 6.17795956e+01, 6.21961715e+01,\n",
       "       6.29290788e+01, 6.30358161e+01, 6.35218675e+01, 6.36816595e+01,\n",
       "       6.38758119e+01, 6.58191016e+01, 6.72095878e+01, 6.75025632e+01,\n",
       "       6.83409430e+01, 6.89167676e+01, 6.92550776e+01, 6.94422587e+01,\n",
       "       6.97825943e+01, 6.98492624e+01, 6.98861590e+01, 7.01653455e+01,\n",
       "       7.04405501e+01, 7.09079866e+01, 7.09375490e+01, 7.10931370e+01,\n",
       "       7.23463000e+01, 7.24625057e+01, 7.27627100e+01, 7.32828821e+01,\n",
       "       7.42430781e+01, 7.42485259e+01, 7.43203963e+01, 7.44972892e+01,\n",
       "       7.47677570e+01, 7.49983599e+01, 7.59741660e+01, 7.61482302e+01,\n",
       "       7.64701634e+01, 7.71513961e+01, 7.77254611e+01, 7.78712269e+01,\n",
       "       7.93789637e+01, 7.93919929e+01, 7.96202620e+01, 8.03552033e+01,\n",
       "       8.13942103e+01, 8.19957372e+01, 8.20541859e+01, 8.32016234e+01,\n",
       "       8.59871568e+01, 8.73120645e+01, 8.75461318e+01, 8.79343381e+01,\n",
       "       8.81928596e+01, 8.86162099e+01, 9.00325168e+01, 9.16634517e+01,\n",
       "       9.16705295e+01, 9.30043866e+01, 9.30648655e+01, 9.33936259e+01,\n",
       "       9.34792543e+01, 9.35055432e+01, 9.42919918e+01, 9.46706410e+01,\n",
       "       9.62775622e+01, 9.78022403e+01, 9.83981101e+01, 9.88461814e+01,\n",
       "       9.98578310e+01, 1.00366357e+02, 1.00667651e+02, 1.01230456e+02,\n",
       "       1.01421564e+02, 1.01733768e+02, 1.04292013e+02, 1.04824179e+02,\n",
       "       1.04850354e+02, 1.05972035e+02, 1.08654669e+02, 1.08693762e+02,\n",
       "       1.09122670e+02, 1.09296624e+02, 1.09904173e+02, 1.10592590e+02,\n",
       "       1.10775302e+02, 1.10895509e+02, 1.10977794e+02, 1.11642369e+02,\n",
       "       1.12158439e+02, 1.12464135e+02, 1.12648328e+02, 1.14054800e+02,\n",
       "       1.14358627e+02, 1.14448044e+02, 1.15035804e+02, 1.16624404e+02,\n",
       "       1.17687514e+02, 1.18158612e+02, 1.18862779e+02, 1.19831235e+02,\n",
       "       1.22190352e+02, 1.26535894e+02, 1.29001924e+02, 1.29620025e+02,\n",
       "       1.29751978e+02, 1.30242472e+02, 1.30716555e+02, 1.30825167e+02,\n",
       "       1.31231345e+02, 1.33251423e+02, 1.36357150e+02, 1.37183014e+02,\n",
       "       1.37202575e+02, 1.39865392e+02, 1.40004214e+02, 1.40778531e+02,\n",
       "       1.41627084e+02, 1.43603424e+02, 1.45097329e+02, 1.45822449e+02,\n",
       "       1.46353988e+02, 1.48103623e+02, 1.48396537e+02, 1.48896979e+02,\n",
       "       1.49146018e+02, 1.50577145e+02, 1.51735087e+02, 1.53881882e+02,\n",
       "       1.54119315e+02, 1.56052925e+02, 1.56835948e+02, 1.58073961e+02,\n",
       "       1.58934209e+02, 1.59051306e+02, 1.61676775e+02, 1.63660836e+02,\n",
       "       1.64008044e+02, 1.64445248e+02, 1.66012768e+02, 1.66046594e+02,\n",
       "       1.66638735e+02, 1.67095475e+02, 1.67896331e+02, 1.69079168e+02,\n",
       "       1.71514656e+02, 1.72323570e+02, 1.74126474e+02, 1.77076044e+02,\n",
       "       1.80073658e+02, 1.80170860e+02, 1.92682067e+02, 1.96197995e+02,\n",
       "       2.00334604e+02, 2.04930845e+02, 2.07542558e+02, 2.08436981e+02,\n",
       "       2.08722366e+02, 2.09607122e+02, 2.13097561e+02, 2.13436904e+02,\n",
       "       2.13826726e+02, 2.14520443e+02, 2.15490590e+02, 2.15647677e+02,\n",
       "       2.16311281e+02, 2.19190447e+02, 2.19269091e+02, 2.30202327e+02,\n",
       "       2.34597781e+02, 2.37901573e+02, 2.39630152e+02, 2.40455094e+02,\n",
       "       2.43996778e+02, 2.45759095e+02, 2.50325941e+02, 2.54566287e+02,\n",
       "       2.56128138e+02, 2.57652627e+02, 2.61800413e+02, 2.65415364e+02,\n",
       "       2.67960414e+02, 2.72893344e+02, 2.75931683e+02, 2.76514251e+02,\n",
       "       2.79824410e+02, 2.84679715e+02, 2.87991505e+02, 2.95789864e+02,\n",
       "       2.97984565e+02, 3.00096317e+02, 3.01786274e+02, 3.02071496e+02,\n",
       "       3.02324307e+02, 3.04519144e+02, 3.04564911e+02, 3.05541737e+02,\n",
       "       3.08507845e+02, 3.09138562e+02, 3.11557609e+02, 3.11751671e+02,\n",
       "       3.15951629e+02, 3.18908929e+02, 3.26101573e+02, 3.27776808e+02,\n",
       "       3.29669235e+02, 3.30226266e+02, 3.32423346e+02, 3.40619447e+02,\n",
       "       3.51200483e+02, 3.52887951e+02, 3.58525415e+02, 3.59742535e+02,\n",
       "       3.60558056e+02, 3.75636416e+02, 3.77466265e+02, 3.80650241e+02,\n",
       "       3.81326635e+02, 3.94571066e+02, 3.97341884e+02, 3.97408817e+02,\n",
       "       4.01512312e+02, 4.05550962e+02, 4.11601085e+02, 4.18878339e+02,\n",
       "       4.25365701e+02, 4.32399676e+02, 4.35479308e+02, 4.40955264e+02,\n",
       "       4.43330779e+02, 4.44981718e+02, 4.50348751e+02, 4.51299169e+02,\n",
       "       4.56721541e+02, 4.56736129e+02, 4.60497037e+02, 4.84796184e+02,\n",
       "       4.94141978e+02, 5.00261990e+02, 5.00414508e+02, 5.08772235e+02,\n",
       "       5.12052395e+02, 5.24265456e+02, 5.28209498e+02, 5.37081353e+02,\n",
       "       5.43628890e+02, 5.45092133e+02, 5.48319058e+02, 5.51044296e+02,\n",
       "       5.63515873e+02, 5.69764672e+02, 5.74622116e+02, 5.75851791e+02,\n",
       "       5.78333645e+02, 5.80069631e+02, 5.82028730e+02, 5.87813789e+02,\n",
       "       5.89142626e+02, 6.02179523e+02, 6.07765978e+02, 6.12542312e+02,\n",
       "       6.17098872e+02, 6.43885300e+02, 6.57833086e+02, 6.62203368e+02,\n",
       "       6.85921297e+02, 6.86080567e+02, 6.90409078e+02, 6.94596585e+02,\n",
       "       7.02902943e+02, 7.06560453e+02, 7.18853007e+02, 7.21586493e+02,\n",
       "       7.33333956e+02, 7.36366915e+02, 7.38034622e+02, 7.46356007e+02,\n",
       "       7.70690976e+02, 7.75196371e+02, 7.77426346e+02, 7.98947045e+02,\n",
       "       8.17196476e+02, 8.23524861e+02, 8.26480425e+02, 8.33751978e+02,\n",
       "       8.33996004e+02, 8.34357819e+02, 8.43006597e+02, 8.56822040e+02,\n",
       "       8.66636421e+02, 8.67417552e+02, 8.91783180e+02, 8.93689221e+02,\n",
       "       8.99919843e+02, 9.16177857e+02, 9.46401201e+02, 9.52347762e+02,\n",
       "       9.67037018e+02, 9.87124221e+02, 9.91715367e+02, 9.94315724e+02,\n",
       "       1.00081574e+03, 1.00293986e+03, 1.03168374e+03, 1.06689001e+03,\n",
       "       1.07195602e+03, 1.07957668e+03, 1.10954082e+03, 1.11037347e+03,\n",
       "       1.12283090e+03, 1.12295792e+03, 1.14232154e+03, 1.18127002e+03,\n",
       "       1.21460303e+03, 1.21748121e+03, 1.23013448e+03, 1.25194262e+03,\n",
       "       1.25994497e+03, 1.28620499e+03, 1.29306657e+03, 1.30238979e+03,\n",
       "       1.31238553e+03, 1.32640961e+03, 1.32981662e+03, 1.35442729e+03,\n",
       "       1.38532201e+03, 1.42208838e+03, 1.44430293e+03, 1.47337510e+03,\n",
       "       1.53436366e+03, 1.53931142e+03, 1.54787037e+03, 1.56905541e+03,\n",
       "       1.57312859e+03, 1.58069826e+03, 1.58985166e+03, 1.59177635e+03,\n",
       "       1.59420354e+03, 1.62478040e+03, 1.62517480e+03, 1.73363093e+03,\n",
       "       1.74375048e+03, 1.79380384e+03, 1.80560625e+03, 1.83160651e+03,\n",
       "       1.84013603e+03, 1.84288330e+03, 1.84303187e+03, 1.84881066e+03,\n",
       "       1.91070992e+03, 1.91740351e+03, 1.94855574e+03, 2.11152998e+03,\n",
       "       2.11259673e+03, 2.17051710e+03, 2.19024283e+03, 2.26852088e+03,\n",
       "       2.27017271e+03, 2.27850975e+03, 2.32122056e+03, 2.42660705e+03,\n",
       "       2.48609304e+03, 2.52095174e+03, 2.53848108e+03, 2.59464681e+03,\n",
       "       2.64283992e+03, 2.68187764e+03, 2.72200206e+03, 2.80987035e+03,\n",
       "       2.87922727e+03, 2.96754754e+03, 3.08204505e+03, 3.20892600e+03,\n",
       "       3.22201198e+03, 3.47893649e+03, 3.52143990e+03, 3.84432826e+03,\n",
       "       4.07931986e+03, 4.27890342e+03, 4.32534563e+03, 4.39139611e+03,\n",
       "       4.44438911e+03, 4.48210603e+03, 4.62352565e+03, 4.74926963e+03,\n",
       "       4.97258250e+03, 5.16471045e+03, 5.19939369e+03, 5.35661881e+03,\n",
       "       5.42856613e+03, 5.61184096e+03, 5.62123401e+03, 5.66360519e+03,\n",
       "       5.93186595e+03, 6.52627055e+03, 6.54700314e+03, 6.59502782e+03,\n",
       "       6.66518797e+03, 6.79612764e+03, 7.01607718e+03, 7.12488532e+03,\n",
       "       7.17460167e+03, 7.26580288e+03, 7.51238510e+03, 7.63770446e+03,\n",
       "       7.65600519e+03, 7.74226145e+03, 8.06906828e+03, 8.39090155e+03,\n",
       "       9.05209457e+03, 9.91925852e+03, 1.01596720e+04, 1.01823162e+04,\n",
       "       1.02649114e+04, 1.03878599e+04, 1.13369666e+04, 1.15978283e+04,\n",
       "       1.17172613e+04, 1.18805806e+04, 1.23467727e+04, 1.25663755e+04,\n",
       "       1.35829731e+04, 1.38515545e+04, 1.67591582e+04, 1.75060413e+04,\n",
       "       1.89506421e+04, 1.89620319e+04, 1.90318169e+04, 1.94936627e+04,\n",
       "       1.99979840e+04, 2.01454610e+04, 2.04113299e+04, 2.32815250e+04,\n",
       "       2.46256607e+04, 2.56167630e+04, 2.58398975e+04, 2.65889852e+04,\n",
       "       2.90693070e+04, 3.04765209e+04, 3.34235308e+04, 3.47611765e+04,\n",
       "       3.58789604e+04, 3.68759397e+04, 3.79140656e+04, 3.81298541e+04,\n",
       "       4.07799932e+04, 4.11368682e+04, 4.11975795e+04, 4.35766698e+04,\n",
       "       4.41992012e+04, 4.42978333e+04, 5.23326965e+04, 5.63817606e+04,\n",
       "       5.64273556e+04, 5.84374078e+04, 5.94429351e+04, 6.41791628e+04,\n",
       "       6.82307020e+04, 6.83140207e+04, 7.36956654e+04, 7.67300544e+04,\n",
       "       7.91786252e+04, 7.95928561e+04, 8.14262190e+04, 8.51378597e+04,\n",
       "       8.77336562e+04, 9.01052318e+04, 9.28593868e+04, 9.46245655e+04,\n",
       "       9.48050417e+04, 9.53104753e+04, 9.65413867e+04, 9.74095348e+04,\n",
       "       1.01402816e+05, 1.01489414e+05, 1.02423145e+05, 1.03103170e+05,\n",
       "       1.04229379e+05, 1.05001942e+05, 1.13870876e+05, 1.23879468e+05,\n",
       "       1.25087769e+05, 1.25966337e+05, 1.36144014e+05, 1.38922364e+05,\n",
       "       1.46732113e+05, 1.51433347e+05, 1.63326037e+05, 1.70842840e+05,\n",
       "       1.73150216e+05, 1.78124902e+05, 1.83325255e+05, 1.84036674e+05,\n",
       "       2.08897474e+05, 2.13290265e+05, 2.20138848e+05, 2.20257321e+05,\n",
       "       2.75073324e+05, 2.92296692e+05, 3.09604469e+05, 3.14983514e+05,\n",
       "       3.56751418e+05, 3.73446377e+05, 9.25773717e+05, 9.37791830e+05,\n",
       "       1.46387529e+06, 1.54955008e+06, 9.59127639e+06, 2.09958366e+07,\n",
       "       9.22359546e+07])"
      ]
     },
     "execution_count": 586,
     "metadata": {},
     "output_type": "execute_result"
    }
   ],
   "source": [
    "# Finding the ccp_alpha value\n",
    "dt_reg = DecisionTreeRegressor(random_state = 10)\n",
    "\n",
    "result = dt_reg.cost_complexity_pruning_path(x_train, y_train)\n",
    "ccp_alpha_list = result['ccp_alphas']\n",
    "ccp_alpha_list"
   ]
  },
  {
   "cell_type": "code",
   "execution_count": 587,
   "id": "bb5fe368",
   "metadata": {},
   "outputs": [
    {
     "data": {
      "text/html": [
       "<div>\n",
       "<style scoped>\n",
       "    .dataframe tbody tr th:only-of-type {\n",
       "        vertical-align: middle;\n",
       "    }\n",
       "\n",
       "    .dataframe tbody tr th {\n",
       "        vertical-align: top;\n",
       "    }\n",
       "\n",
       "    .dataframe thead th {\n",
       "        text-align: right;\n",
       "    }\n",
       "</style>\n",
       "<table border=\"1\" class=\"dataframe\">\n",
       "  <thead>\n",
       "    <tr style=\"text-align: right;\">\n",
       "      <th></th>\n",
       "      <th>Models</th>\n",
       "      <th>Model Instance</th>\n",
       "      <th>Training Accuracy</th>\n",
       "      <th>Testing Accuracy</th>\n",
       "      <th>Train - Test</th>\n",
       "    </tr>\n",
       "  </thead>\n",
       "  <tbody>\n",
       "    <tr>\n",
       "      <th>0</th>\n",
       "      <td>Basic Model</td>\n",
       "      <td>dec_tree_reg</td>\n",
       "      <td>1.000000</td>\n",
       "      <td>0.667149</td>\n",
       "      <td>0.332851</td>\n",
       "    </tr>\n",
       "    <tr>\n",
       "      <th>1</th>\n",
       "      <td>Feature Selection</td>\n",
       "      <td>dec_tree_reg_feature_sel</td>\n",
       "      <td>0.999998</td>\n",
       "      <td>0.680925</td>\n",
       "      <td>0.319073</td>\n",
       "    </tr>\n",
       "    <tr>\n",
       "      <th>2</th>\n",
       "      <td>HyperParameter Pre Pruning</td>\n",
       "      <td>dt_reg_HPT_PP_model</td>\n",
       "      <td>0.869461</td>\n",
       "      <td>0.811002</td>\n",
       "      <td>0.058459</td>\n",
       "    </tr>\n",
       "    <tr>\n",
       "      <th>3</th>\n",
       "      <td>HyperParameter Post Pruning</td>\n",
       "      <td>dt_reg_HPT_CCP_model</td>\n",
       "      <td>0.869744</td>\n",
       "      <td>0.823513</td>\n",
       "      <td>0.046230</td>\n",
       "    </tr>\n",
       "  </tbody>\n",
       "</table>\n",
       "</div>"
      ],
      "text/plain": [
       "                        Models            Model Instance  Training Accuracy  \\\n",
       "0                  Basic Model              dec_tree_reg           1.000000   \n",
       "1            Feature Selection  dec_tree_reg_feature_sel           0.999998   \n",
       "2   HyperParameter Pre Pruning       dt_reg_HPT_PP_model           0.869461   \n",
       "3  HyperParameter Post Pruning      dt_reg_HPT_CCP_model           0.869744   \n",
       "\n",
       "   Testing Accuracy  Train - Test  \n",
       "0          0.667149      0.332851  \n",
       "1          0.680925      0.319073  \n",
       "2          0.811002      0.058459  \n",
       "3          0.823513      0.046230  "
      ]
     },
     "execution_count": 587,
     "metadata": {},
     "output_type": "execute_result"
    }
   ],
   "source": [
    "subtracted = []\n",
    "for i in range(len(training_accuracy)):\n",
    "    item = training_accuracy[i] - testing_accuracy[i]\n",
    "    subtracted.append(item)\n",
    "\n",
    "comparison_df = pd.DataFrame({\"Models\": model_details, \"Model Instance\": model_instance, \n",
    "                              \"Training Accuracy\": training_accuracy, \"Testing Accuracy\": testing_accuracy,\n",
    "                              \"Train - Test\": subtracted})\n",
    "comparison_df"
   ]
  },
  {
   "cell_type": "code",
   "execution_count": 588,
   "id": "3d579e49",
   "metadata": {},
   "outputs": [],
   "source": [
    "import pickle \n",
    "with open(\"/Machine Learning/Decision Tree CR/36_Neelam Thakur_Medical insurance Decision Tree_e2e Model/project_app/Linear_Model.pkl\",\"wb\") as f:\n",
    "    pickle.dump(dt_reg_HPT_CCP_model,f)"
   ]
  },
  {
   "cell_type": "code",
   "execution_count": 589,
   "id": "367031f6",
   "metadata": {},
   "outputs": [
    {
     "data": {
      "text/plain": [
       "{'columns': ['age',\n",
       "  'bmi',\n",
       "  'children',\n",
       "  'sex_female',\n",
       "  'sex_male',\n",
       "  'smoker_no',\n",
       "  'smoker_yes',\n",
       "  'region_northeast',\n",
       "  'region_northwest',\n",
       "  'region_southeast',\n",
       "  'region_southwest'],\n",
       " 'Training Accuracy': 0.8697437567767106,\n",
       " 'Testing Accuracy': 0.8235132856213337}"
      ]
     },
     "execution_count": 589,
     "metadata": {},
     "output_type": "execute_result"
    }
   ],
   "source": [
    "column_names = x.columns\n",
    "len(column_names)\n",
    "json_data = {\"columns\":list(column_names), \"Training Accuracy\": training_accuracy[3], \"Testing Accuracy\": testing_accuracy[3]}\n",
    "json_data"
   ]
  },
  {
   "cell_type": "code",
   "execution_count": 590,
   "id": "406de806",
   "metadata": {},
   "outputs": [],
   "source": [
    "import json\n",
    "with open(\"/Machine Learning/Decision Tree CR/36_Neelam Thakur_Medical insurance Decision Tree_e2e Model/project_app/Medical_Insurance_data.json\", \"w\") as f:\n",
    "    json.dump(json_data, f)"
   ]
  },
  {
   "cell_type": "code",
   "execution_count": 591,
   "id": "0e003f2e",
   "metadata": {},
   "outputs": [],
   "source": [
    "age = 19.0\n",
    "sex = \"female\"\n",
    "bmi = 27.9\n",
    "children = 2\n",
    "smoker = \"no\"\n",
    "region = \"northwest\"\n",
    "\n",
    "sex = \"sex_\" + sex\n",
    "sex_index = np.where(column_names == sex)[0]\n",
    "\n",
    "smoker = \"smoker_\" + smoker\n",
    "smoker_index = np.where(column_names == smoker)[0]\n",
    "\n",
    "region = \"region_\" + region\n",
    "region_index = np.where(column_names == region)[0][0]"
   ]
  },
  {
   "cell_type": "code",
   "execution_count": 592,
   "id": "1309ab19",
   "metadata": {},
   "outputs": [],
   "source": [
    "sex_index = sex_index = list(column_names).index(sex)\n",
    "smoker_index = smoker_index = list(column_names).index(smoker)\n",
    "region_index = region_index = list(column_names).index(region)"
   ]
  },
  {
   "cell_type": "code",
   "execution_count": 593,
   "id": "dad41407",
   "metadata": {},
   "outputs": [
    {
     "data": {
      "text/plain": [
       "array([19. , 27.9,  2. ,  1. ,  0. ,  1. ,  0. ,  0. ,  1. ,  0. ,  0. ])"
      ]
     },
     "execution_count": 593,
     "metadata": {},
     "output_type": "execute_result"
    }
   ],
   "source": [
    "test_array = np.zeros(len(column_names))\n",
    "\n",
    "test_array[0] = age\n",
    "test_array[1] = bmi\n",
    "test_array[2] = children\n",
    "test_array[sex_index] = 1\n",
    "test_array[smoker_index] = 1\n",
    "test_array[region_index] = 1\n",
    "\n",
    "test_array"
   ]
  },
  {
   "cell_type": "code",
   "execution_count": 594,
   "id": "9da9c274",
   "metadata": {},
   "outputs": [
    {
     "name": "stdout",
     "output_type": "stream",
     "text": [
      "Predicted Medical Insurance Charges is : 5454.62 /- Rs. Only\n"
     ]
    }
   ],
   "source": [
    "charges = round(dt_reg_HPT_CCP_model.predict([test_array])[0],2)\n",
    "print(\"Predicted Medical Insurance Charges is :\", charges, \"/- Rs. Only\")"
   ]
  },
  {
   "cell_type": "code",
   "execution_count": null,
   "id": "ff817bbc",
   "metadata": {},
   "outputs": [],
   "source": []
  }
 ],
 "metadata": {
  "kernelspec": {
   "display_name": "Python 3 (ipykernel)",
   "language": "python",
   "name": "python3"
  },
  "language_info": {
   "codemirror_mode": {
    "name": "ipython",
    "version": 3
   },
   "file_extension": ".py",
   "mimetype": "text/x-python",
   "name": "python",
   "nbconvert_exporter": "python",
   "pygments_lexer": "ipython3",
   "version": "3.9.13"
  }
 },
 "nbformat": 4,
 "nbformat_minor": 5
}
